{
  "nbformat": 4,
  "nbformat_minor": 0,
  "metadata": {
    "colab": {
      "name": "Activity_Chatbot.ipynb",
      "provenance": []
    },
    "kernelspec": {
      "name": "python3",
      "display_name": "Python 3"
    },
    "language_info": {
      "name": "python"
    }
  },
  "cells": [
    {
      "cell_type": "code",
      "metadata": {
        "id": "LLSOmaUEBeJi",
        "colab": {
          "base_uri": "https://localhost:8080/"
        },
        "outputId": "6c0d7d34-a2b1-4366-c6c6-7af529595764"
      },
      "source": [
        "!pip install newspaper3k"
      ],
      "execution_count": 6,
      "outputs": [
        {
          "output_type": "stream",
          "name": "stdout",
          "text": [
            "Collecting newspaper3k\n",
            "  Downloading newspaper3k-0.2.8-py3-none-any.whl (211 kB)\n",
            "\u001b[?25l\r\u001b[K     |█▌                              | 10 kB 23.1 MB/s eta 0:00:01\r\u001b[K     |███                             | 20 kB 28.1 MB/s eta 0:00:01\r\u001b[K     |████▋                           | 30 kB 33.2 MB/s eta 0:00:01\r\u001b[K     |██████▏                         | 40 kB 28.8 MB/s eta 0:00:01\r\u001b[K     |███████▊                        | 51 kB 18.2 MB/s eta 0:00:01\r\u001b[K     |█████████▎                      | 61 kB 14.8 MB/s eta 0:00:01\r\u001b[K     |██████████▉                     | 71 kB 13.5 MB/s eta 0:00:01\r\u001b[K     |████████████▍                   | 81 kB 14.8 MB/s eta 0:00:01\r\u001b[K     |██████████████                  | 92 kB 14.9 MB/s eta 0:00:01\r\u001b[K     |███████████████▌                | 102 kB 12.8 MB/s eta 0:00:01\r\u001b[K     |█████████████████               | 112 kB 12.8 MB/s eta 0:00:01\r\u001b[K     |██████████████████▋             | 122 kB 12.8 MB/s eta 0:00:01\r\u001b[K     |████████████████████▏           | 133 kB 12.8 MB/s eta 0:00:01\r\u001b[K     |█████████████████████▊          | 143 kB 12.8 MB/s eta 0:00:01\r\u001b[K     |███████████████████████▎        | 153 kB 12.8 MB/s eta 0:00:01\r\u001b[K     |████████████████████████▉       | 163 kB 12.8 MB/s eta 0:00:01\r\u001b[K     |██████████████████████████▍     | 174 kB 12.8 MB/s eta 0:00:01\r\u001b[K     |████████████████████████████    | 184 kB 12.8 MB/s eta 0:00:01\r\u001b[K     |█████████████████████████████▌  | 194 kB 12.8 MB/s eta 0:00:01\r\u001b[K     |███████████████████████████████ | 204 kB 12.8 MB/s eta 0:00:01\r\u001b[K     |████████████████████████████████| 211 kB 12.8 MB/s \n",
            "\u001b[?25hCollecting tldextract>=2.0.1\n",
            "  Downloading tldextract-3.1.2-py2.py3-none-any.whl (87 kB)\n",
            "\u001b[?25l\r\u001b[K     |███▊                            | 10 kB 37.5 MB/s eta 0:00:01\r\u001b[K     |███████▌                        | 20 kB 42.3 MB/s eta 0:00:01\r\u001b[K     |███████████▎                    | 30 kB 48.6 MB/s eta 0:00:01\r\u001b[K     |███████████████                 | 40 kB 52.9 MB/s eta 0:00:01\r\u001b[K     |██████████████████▉             | 51 kB 54.8 MB/s eta 0:00:01\r\u001b[K     |██████████████████████▋         | 61 kB 58.5 MB/s eta 0:00:01\r\u001b[K     |██████████████████████████▍     | 71 kB 59.1 MB/s eta 0:00:01\r\u001b[K     |██████████████████████████████  | 81 kB 61.0 MB/s eta 0:00:01\r\u001b[K     |████████████████████████████████| 87 kB 6.6 MB/s \n",
            "\u001b[?25hRequirement already satisfied: python-dateutil>=2.5.3 in /usr/local/lib/python3.7/dist-packages (from newspaper3k) (2.8.2)\n",
            "Collecting tinysegmenter==0.3\n",
            "  Downloading tinysegmenter-0.3.tar.gz (16 kB)\n",
            "Requirement already satisfied: PyYAML>=3.11 in /usr/local/lib/python3.7/dist-packages (from newspaper3k) (3.13)\n",
            "Requirement already satisfied: lxml>=3.6.0 in /usr/local/lib/python3.7/dist-packages (from newspaper3k) (4.2.6)\n",
            "Collecting cssselect>=0.9.2\n",
            "  Downloading cssselect-1.1.0-py2.py3-none-any.whl (16 kB)\n",
            "Collecting feedparser>=5.2.1\n",
            "  Downloading feedparser-6.0.8-py3-none-any.whl (81 kB)\n",
            "\u001b[K     |████████████████████████████████| 81 kB 10.3 MB/s \n",
            "\u001b[?25hRequirement already satisfied: Pillow>=3.3.0 in /usr/local/lib/python3.7/dist-packages (from newspaper3k) (7.1.2)\n",
            "Collecting feedfinder2>=0.0.4\n",
            "  Downloading feedfinder2-0.0.4.tar.gz (3.3 kB)\n",
            "Requirement already satisfied: nltk>=3.2.1 in /usr/local/lib/python3.7/dist-packages (from newspaper3k) (3.2.5)\n",
            "Collecting jieba3k>=0.35.1\n",
            "  Downloading jieba3k-0.35.1.zip (7.4 MB)\n",
            "\u001b[K     |████████████████████████████████| 7.4 MB 44.0 MB/s \n",
            "\u001b[?25hRequirement already satisfied: requests>=2.10.0 in /usr/local/lib/python3.7/dist-packages (from newspaper3k) (2.23.0)\n",
            "Requirement already satisfied: beautifulsoup4>=4.4.1 in /usr/local/lib/python3.7/dist-packages (from newspaper3k) (4.6.3)\n",
            "Requirement already satisfied: six in /usr/local/lib/python3.7/dist-packages (from feedfinder2>=0.0.4->newspaper3k) (1.15.0)\n",
            "Collecting sgmllib3k\n",
            "  Downloading sgmllib3k-1.0.0.tar.gz (5.8 kB)\n",
            "Requirement already satisfied: idna<3,>=2.5 in /usr/local/lib/python3.7/dist-packages (from requests>=2.10.0->newspaper3k) (2.10)\n",
            "Requirement already satisfied: certifi>=2017.4.17 in /usr/local/lib/python3.7/dist-packages (from requests>=2.10.0->newspaper3k) (2021.5.30)\n",
            "Requirement already satisfied: urllib3!=1.25.0,!=1.25.1,<1.26,>=1.21.1 in /usr/local/lib/python3.7/dist-packages (from requests>=2.10.0->newspaper3k) (1.24.3)\n",
            "Requirement already satisfied: chardet<4,>=3.0.2 in /usr/local/lib/python3.7/dist-packages (from requests>=2.10.0->newspaper3k) (3.0.4)\n",
            "Requirement already satisfied: filelock>=3.0.8 in /usr/local/lib/python3.7/dist-packages (from tldextract>=2.0.1->newspaper3k) (3.3.0)\n",
            "Collecting requests-file>=1.4\n",
            "  Downloading requests_file-1.5.1-py2.py3-none-any.whl (3.7 kB)\n",
            "Building wheels for collected packages: tinysegmenter, feedfinder2, jieba3k, sgmllib3k\n",
            "  Building wheel for tinysegmenter (setup.py) ... \u001b[?25l\u001b[?25hdone\n",
            "  Created wheel for tinysegmenter: filename=tinysegmenter-0.3-py3-none-any.whl size=13552 sha256=b34d55f6c929a2e9d65f583cb1333f6c0d866472cc5136b5201676caefc092ed\n",
            "  Stored in directory: /root/.cache/pip/wheels/df/67/41/faca10fa501ca010be41b49d40360c2959e1c4f09bcbfa37fa\n",
            "  Building wheel for feedfinder2 (setup.py) ... \u001b[?25l\u001b[?25hdone\n",
            "  Created wheel for feedfinder2: filename=feedfinder2-0.0.4-py3-none-any.whl size=3356 sha256=8b8b5a786404f7deeecef41ee2eeb6f78e00e786d7d0174ccf7a597d53db1a5f\n",
            "  Stored in directory: /root/.cache/pip/wheels/7f/d4/8f/6e2ca54744c9d7292d88ddb8d42876bcdab5e6d84a21c10346\n",
            "  Building wheel for jieba3k (setup.py) ... \u001b[?25l\u001b[?25hdone\n",
            "  Created wheel for jieba3k: filename=jieba3k-0.35.1-py3-none-any.whl size=7398405 sha256=20132af5d56f1175573377bc88138bdd9c50f835ae864d832453ef59d8a1eef0\n",
            "  Stored in directory: /root/.cache/pip/wheels/4c/91/46/3c208287b726df325a5979574324878b679116e4baae1af3c3\n",
            "  Building wheel for sgmllib3k (setup.py) ... \u001b[?25l\u001b[?25hdone\n",
            "  Created wheel for sgmllib3k: filename=sgmllib3k-1.0.0-py3-none-any.whl size=6065 sha256=bcb90e12f07f929784c5e46e95a68284307993759b3cc2137b5d34b4e858bf4b\n",
            "  Stored in directory: /root/.cache/pip/wheels/73/ad/a4/0dff4a6ef231fc0dfa12ffbac2a36cebfdddfe059f50e019aa\n",
            "Successfully built tinysegmenter feedfinder2 jieba3k sgmllib3k\n",
            "Installing collected packages: sgmllib3k, requests-file, tldextract, tinysegmenter, jieba3k, feedparser, feedfinder2, cssselect, newspaper3k\n",
            "Successfully installed cssselect-1.1.0 feedfinder2-0.0.4 feedparser-6.0.8 jieba3k-0.35.1 newspaper3k-0.2.8 requests-file-1.5.1 sgmllib3k-1.0.0 tinysegmenter-0.3 tldextract-3.1.2\n"
          ]
        }
      ]
    },
    {
      "cell_type": "code",
      "metadata": {
        "id": "qCIG8xn0BmIy"
      },
      "source": [
        "# Import library\n",
        "from newspaper import Article\n",
        "import random\n",
        "import nltk\n",
        "import string\n",
        "from sklearn.feature_extraction.text import CountVectorizer\n",
        "from sklearn.metrics.pairwise import cosine_similarity\n",
        "import numpy as np\n",
        "import warnings\n",
        "warnings.filterwarnings('ignore')"
      ],
      "execution_count": 7,
      "outputs": []
    },
    {
      "cell_type": "code",
      "metadata": {
        "id": "8hvRqS6IBs8r",
        "colab": {
          "base_uri": "https://localhost:8080/"
        },
        "outputId": "b8cb94f1-b57d-41e3-8492-8b766266d4f8"
      },
      "source": [
        "nltk.download('punkt', quiet=True)"
      ],
      "execution_count": 8,
      "outputs": [
        {
          "output_type": "execute_result",
          "data": {
            "text/plain": [
              "True"
            ]
          },
          "metadata": {},
          "execution_count": 8
        }
      ]
    },
    {
      "cell_type": "code",
      "metadata": {
        "id": "EtFFIcAVBuvF",
        "colab": {
          "base_uri": "https://localhost:8080/"
        },
        "outputId": "39c9a66e-fe1d-4f65-84ab-cb54f67836fe"
      },
      "source": [
        "# Proses 1(Proses 1 (Membuat korpus dengan mendownload artikel dari sebuah link))\n",
        "article = Article('https://www.suaramerdeka.com/semarang-raya/pr-041360216/prakiraan-cuaca-semarang-hari-ini-cerah-berawan-sepanjang-hari?page=all')\n",
        "article.download()\n",
        "article.parse()\n",
        "article.nlp()\n",
        "corpus = article.text\n",
        "print(corpus)\n",
        "\n"
      ],
      "execution_count": 9,
      "outputs": [
        {
          "output_type": "stream",
          "name": "stdout",
          "text": [
            "SEMARANG, suaramerdeka.com - Hari ini, Rabu, 6 Oktober 2021, cuaca Kota Semarang diprakirakan cerah-berawan sepanjang hari.\n",
            "\n",
            "Seperti dilansir dari situs Badan Meteorologi, Klimatologi, dan Geofisika (BMKG) arah angin dari barat laut - tenggara dengan kecepatan berkisar 20 km/jam dengan suhu 24 hingga 34 derajat celcius.\n",
            "\n",
            "Sementara kelembaban udara di sekitar Semarang berkisar 50 sampai 90 persen.\n",
            "\n",
            "Sementara cuaca di daerah lain seperti wilayah Pantura, seperti Brebes, Tegal dan Pemalang diprakirakan berawan sepanjang hari.\n",
            "\n",
            "Baca Juga: BLT Oktober 2021 Disalurkan, Ini 7 Tipe Pekerja yang Berhak Menerima\n",
            "\n",
            "Arah angin dari barat laut - tenggara dengan kecepatan berkisar 20 km/jam dengan suhu 24 hingga 33 derajat celcius dan kelembaban udara 55 sampai 90 persen.\n",
            "\n",
            "Untuk wilayah Merapi yang meliputi Sleman, Boyolali, Magelang dan Salatiga, cuaca diprakirakan berawan tebal sepanjang hari.\n",
            "\n",
            "Arah angin dari barat laut - tenggara dengan kecepatan berkisar 20 km/jam, suhu 23 hingga 32 derajat celcius dan kelembaban 60 sampai 95 persen.\n",
            "\n",
            "Untuk Pantura Jateng Bagian Timur (sekitar G. Muria) seperti di Kudus, Pati, Rembang cuaca diprakirakan berawan sepanjang hari.\n",
            "\n",
            "Baca Juga: Ratusan Keluarga Anggota GOW Antusias Disuntik Vaksin\n",
            "\n",
            "Arah angin dari barat laut - tenggara dengan kecepatan berkisar 20 km/jam, dengan suhu 23 hingga 32 derajat celcius dan kelembaban udara 60 sampai 95 persen.\n",
            "\n",
            "Untuk wilayah Jateng Selatan seperti di Purbalingga dan Banyumas, diprakirakan berawan sepanjang hari.\n",
            "\n",
            "Arah angin dari barat laut - tenggara dengan kecepatan berkisar 20 km/jam, dengan suhu 24 hingga 31 derajat celcius dan kelembaban udara 70 sampai 95 persen.***\n"
          ]
        }
      ]
    },
    {
      "cell_type": "code",
      "metadata": {
        "id": "VBKZAhfBCEkO",
        "colab": {
          "base_uri": "https://localhost:8080/"
        },
        "outputId": "70f28040-bc2f-448f-a686-2148b835491a"
      },
      "source": [
        "# Proses 2 (Memabagi corpus menjadi perkalimat)\n",
        "\n",
        "# Tokenization\n",
        "text = corpus\n",
        "sentence_list = nltk.sent_tokenize(text) #A list of senetences\n",
        "\n",
        "# Print the list of sentences\n",
        "print(sentence_list)"
      ],
      "execution_count": 10,
      "outputs": [
        {
          "output_type": "stream",
          "name": "stdout",
          "text": [
            "['SEMARANG, suaramerdeka.com - Hari ini, Rabu, 6 Oktober 2021, cuaca Kota Semarang diprakirakan cerah-berawan sepanjang hari.', 'Seperti dilansir dari situs Badan Meteorologi, Klimatologi, dan Geofisika (BMKG) arah angin dari barat laut - tenggara dengan kecepatan berkisar 20 km/jam dengan suhu 24 hingga 34 derajat celcius.', 'Sementara kelembaban udara di sekitar Semarang berkisar 50 sampai 90 persen.', 'Sementara cuaca di daerah lain seperti wilayah Pantura, seperti Brebes, Tegal dan Pemalang diprakirakan berawan sepanjang hari.', 'Baca Juga: BLT Oktober 2021 Disalurkan, Ini 7 Tipe Pekerja yang Berhak Menerima\\n\\nArah angin dari barat laut - tenggara dengan kecepatan berkisar 20 km/jam dengan suhu 24 hingga 33 derajat celcius dan kelembaban udara 55 sampai 90 persen.', 'Untuk wilayah Merapi yang meliputi Sleman, Boyolali, Magelang dan Salatiga, cuaca diprakirakan berawan tebal sepanjang hari.', 'Arah angin dari barat laut - tenggara dengan kecepatan berkisar 20 km/jam, suhu 23 hingga 32 derajat celcius dan kelembaban 60 sampai 95 persen.', 'Untuk Pantura Jateng Bagian Timur (sekitar G. Muria) seperti di Kudus, Pati, Rembang cuaca diprakirakan berawan sepanjang hari.', 'Baca Juga: Ratusan Keluarga Anggota GOW Antusias Disuntik Vaksin\\n\\nArah angin dari barat laut - tenggara dengan kecepatan berkisar 20 km/jam, dengan suhu 23 hingga 32 derajat celcius dan kelembaban udara 60 sampai 95 persen.', 'Untuk wilayah Jateng Selatan seperti di Purbalingga dan Banyumas, diprakirakan berawan sepanjang hari.', 'Arah angin dari barat laut - tenggara dengan kecepatan berkisar 20 km/jam, dengan suhu 24 hingga 31 derajat celcius dan kelembaban udara 70 sampai 95 persen.', '***']\n"
          ]
        }
      ]
    },
    {
      "cell_type": "code",
      "metadata": {
        "id": "GoVu6WlyCwml"
      },
      "source": [
        "# Proses 3 (Bot Response)\n",
        "\n",
        "#a function to return a random greeting response to a users greeting\n",
        "def greeting_response(text):\n",
        "    text = text.lower()\n",
        "    \n",
        "    #Bots greeting respone\n",
        "    bot_greetings = ['howdy','hi','hello','hola']\n",
        "    \n",
        "    #Users greeting\n",
        "    user_greetings = ['hi','hey','hello','greetings','wassup']\n",
        "    \n",
        "    for word in text.split():\n",
        "        if word in user_greetings:\n",
        "            return random.choice(bot_greetings)\n",
        "        \n",
        "    #Random response to greeting\n",
        "    def gratitude_response(text):\n",
        "        text=text.lower() "
      ],
      "execution_count": 11,
      "outputs": []
    },
    {
      "cell_type": "code",
      "metadata": {
        "id": "YEmUKsTzDyCE"
      },
      "source": [
        "# Sorting List\n",
        "\n",
        "def index_sort(list_var):\n",
        "    length = len(list_var)\n",
        "    list_index = list(range(0, length))\n",
        "    \n",
        "    x = list_var        \n",
        "    for i in range(length):\n",
        "        for j in range(length):\n",
        "            if x[list_index[i]] > x[list_index[j]]:\n",
        "                #swap\n",
        "                temp = list_index[i]\n",
        "                list_index[i] = list_index[j]\n",
        "                list_index[j] = temp\n",
        "                \n",
        "    return list_index"
      ],
      "execution_count": 12,
      "outputs": []
    },
    {
      "cell_type": "code",
      "metadata": {
        "id": "SeGCnmawD7Op"
      },
      "source": [
        "# Chatbot Respon Menggunakan Cosine Similarity\n",
        "\n",
        "# Creat Bots Response\n",
        "def bot_response(user_input):\n",
        "    user_input=user_input.lower() #Merubah input dari user menjadi huruf kecil\n",
        "    sentence_list.append(user_input) #Memasukkan input user kedalam corpus yg kita punya (corpus disimpan dalam variabel sentence_list)\n",
        "    bot_response= '' #Inisialisasi variabel bot response\n",
        "\n",
        "    cm=CountVectorizer().fit_transform(sentence_list) #Melakukan ekstraksi fitur pada corpus yg kita punya menggunakan CountVectorizer (Bag of Word)\n",
        "\n",
        "    similarity_scores=cosine_similarity(cm[-1],cm) #Menghitung cosine similarity antara hasil fitur ekstraksi input user (cm[-1]) dengan semua data dalam corpus\n",
        "    similarity_scores_list=similarity_scores.flatten() #Merubah hasil perhitungan cosine similarity menjadi list 1D\n",
        "    index=index_sort(similarity_scores_list) #Melakukan sorting untuk index pada similarity score berdasarkan element yg terbesar, kemudian hasilnya disimpan pada list yg bernama index\n",
        "    index=index[1:] \n",
        "\n",
        "    response_flag=0 \n",
        "    for i in range(len(index)):\n",
        "        if similarity_scores_list[index[i]]>0.0:\n",
        "            bot_response=bot_response+' '+sentence_list[index[i]]\n",
        "            response_flag=1\n",
        "\n",
        "        if response_flag==0:\n",
        "            bot_response=bot_response+\" \"+\"I apologize, I dont understand\" #Jika respon_flag = 0 (tidak ada kata yg cocok) maka akan memberikan response  apologize, I dont understand.\n",
        "\n",
        "        sentence_list.remove(user_input) #Meremove user_input yg sudah dimasukkan kedalam sentence_list (Corpus yg kita punya).\n",
        "\n",
        "        return bot_response"
      ],
      "execution_count": 13,
      "outputs": []
    },
    {
      "cell_type": "code",
      "metadata": {
        "colab": {
          "base_uri": "https://localhost:8080/"
        },
        "id": "VTF_rsf5HFQT",
        "outputId": "c434678e-6fb3-41cb-9787-a2dfadaf6bb9"
      },
      "source": [
        "# Proses 4 (End Process, Making chat box)\n",
        "\n",
        "#Start Chat\n",
        "print(\"Doc Bot: Mau tau tentang cuaca hari ini  ?\")\n",
        "\n",
        "exit_list=['exit','bye','sampai jumpa','keluar']\n",
        "\n",
        "while(True):\n",
        "    user_input=input() #mengambil input pada user\n",
        "    if user_input.lower() in exit_list: #kalau input dari user ada didalam exit_list maka program akan berhenti\n",
        "        print('Doc Bot: Bye Bye Sampai Jumpa Lagi')\n",
        "        break\n",
        "    else:\n",
        "        if greeting_response(user_input)!= None: #Mengecek apakah input dari user masuk kedalam greeting atau bukan\n",
        "            print('Doc Bot: '+ greeting_response(user_input)) #Jika masuk kedalam greeting maka bot akan melakukan response terhadap greeting tersebut\n",
        "        else:\n",
        "            print('Doc Bot: '+ bot_response(user_input)) #Jika bukan, maka bot akan memanggil fungsi bot_response untuk menentukan respon apa yg akan ia keluarkan sesuai dengan input dari user"
      ],
      "execution_count": 14,
      "outputs": [
        {
          "output_type": "stream",
          "name": "stdout",
          "text": [
            "Doc Bot: Mau tau tentang cuaca hari ini  ?\n",
            "kelembapan udara\n",
            "Doc Bot:  Sementara kelembaban udara di sekitar Semarang berkisar 50 sampai 90 persen.\n",
            "keluar\n",
            "Doc Bot: Bye Bye Sampai Jumpa Lagi\n"
          ]
        }
      ]
    },
    {
      "cell_type": "markdown",
      "metadata": {
        "id": "_CUvTM6hMhXa"
      },
      "source": [
        "Versi Bahasa Inggris"
      ]
    },
    {
      "cell_type": "code",
      "metadata": {
        "colab": {
          "base_uri": "https://localhost:8080/"
        },
        "id": "cHgL3d-FMmNo",
        "outputId": "6a7e9a80-45e5-494f-a218-4581a03ddc6f"
      },
      "source": [
        "# Proses 1 (Membuat korpus dengan mendownload artikel dari sebuah link)\n",
        "\n",
        "article = Article('https://metro.co.uk/2021/10/16/which-star-signs-clash-the-most-these-are-the-signs-you-should-avoid-15432082/')\n",
        "article.download()\n",
        "article.parse()\n",
        "article.nlp()\n",
        "corpus = article.text\n",
        "print(corpus)"
      ],
      "execution_count": 15,
      "outputs": [
        {
          "output_type": "stream",
          "name": "stdout",
          "text": [
            "Steer clear… (Picture: Metro.co.uk)\n",
            "\n",
            "Just as astrology can guide us towards our soul mates, BFFs, best lovers, and long-term partners, it can equally advise where we should not dare to tread.\n",
            "\n",
            "Some star signs are destined to clash, and the cosmic fallout can be dramatic.\n",
            "\n",
            "Avoid the drama and heed this guide. Ahead you’ll find each star sign’s fated enemy.\n",
            "\n",
            "Aries – Pisces\n",
            "\n",
            "The first and last signs of the zodiac, as far apart (and close together, as the zodiac is a wheel) as any in terms of temperament, motives, traits, humour, values and needs.\n",
            "\n",
            "Aries is a go-getting, ultra-competitive, devil-may-care thrill seeker. Pisces is a whimsical, romantic, imaginative, prone-to-martyrdom empath.\n",
            "\n",
            "These two don’t get each other, and Aries can (without really meaning to, because Aries isn’t overtly unkind) upset Pisces without even lifting a finger.\n",
            "\n",
            "Meanwhile Pisces can drive Aries to distraction with their self-sacrifice and overthinking. Each is a frustrating enigma to the other.\n",
            "\n",
            "Taurus – Sagittarius\n",
            "\n",
            "The only thing these two really have in common is a healthy appetite for sex and physical contact, so this can work as a steamy, fast fling but, longer term… yikes.\n",
            "\n",
            "Taurus likes control, Sagittarius revokes and rejects any form of control, thank you.\n",
            "\n",
            "Taurus thinks long and hard about what they say and do, Sagittarius says and does whatever first pops into their head the moment it pops there.\n",
            "\n",
            "Taurus saves and plans for the future, Sagittarius lives like there’s no tomorrow.\n",
            "\n",
            "Taurus likes to stay in, Sagittarius cannot stay in.\n",
            "\n",
            "You get the picture.\n",
            "\n",
            "Gemini – Cancer\n",
            "\n",
            "Although these two sit next to each other on the zodiac wheel, they are miles and miles apart in every other respect.\n",
            "\n",
            "The main sticking point between them is that Gemini is all about space, freedom, independence, and having many casual connections, whereas Cancer is all about bonding, closeness, intimacy, and a handful of total live-in-eachother’s-pockets connections.\n",
            "\n",
            "Gemini is also a smart-mouthed, mickey-taking prankster, and Cancer can’t bear to be poked fun at. This relationship usually ends in tears (from Cancer) and villainy (from Gemini).\n",
            "\n",
            "Leo – Virgo\n",
            "\n",
            "This relationship has naughty pupil/strict headteacher (guess who’s who) written all over it, which might make for an exciting roleplay, fun for a night but not for a lifetime.\n",
            "\n",
            "Leo just wants to be admired, adored, calling the shots, being a rascal and having fun. Basically absorbing a whole heap of energy, and getting first dibs on everything.\n",
            "\n",
            "Virgo will seethe (silently for a while) at this perceived liberty taking, because Virgo can’t bear to waste energy on pointless flatteries or let other people do what they know they can do better.\n",
            "\n",
            "This pair can quickly descend into an icy battle of wills.\n",
            "\n",
            "Libra – Capricorn\n",
            "\n",
            "Venus meets Saturn. Pleasure meets duty. Indulgence meets obligation. This pairing is destined for arguments about money, time-wasting, laziness, and control.\n",
            "\n",
            "Libra is all up for a good time, and loves to spend/shop/play/chill/indulge themselves.\n",
            "\n",
            "At the other end of the spectrum sits Capricorn, who loves to earn/save/work/ improve/progress.\n",
            "\n",
            "Although things may swim along okay for a while, as Libra is so tactful and charming they can make almost anything work, the cracks will soon appear when real life comes a-knocking, and the bills need paying.\n",
            "\n",
            "Scorpio – Aquarius\n",
            "\n",
            "Clash of the titans. Pluto meets Uranus, two outer planets that have fearless, independent and powerful energy, and bend to no one.\n",
            "\n",
            "Neither of these signs knows a thing about compromise, which is an essential ingredient of any successful relationship. Both are stubborn, resolute, fixed in their opinions, and kind of guarded (dare I say secretive) about their desires and flaws.\n",
            "\n",
            "This can lead to an epic stand-off. Scorpio has intensity and a thirst to control. Aquarius is more fluid and slips away from any attempts to domineer. They just can’t get a handle on each other, or learn to live together.\n",
            "\n",
            "Kerry King, the tarot queen, uses tarot and star sign wisdom to create inspiring forecasts and insights, with over 25 years fortune telling experience, and many happy clients all over the world. You can book a personal, written reading, which comes as a beautifully illustrated brochure, through Etsy or join her new Tarot Club and get weekly forecasts and more for £5 a month.\n",
            "\n",
            "Do you have a story to share?\n",
            "\n",
            "Get in touch by emailing MetroLifestyleTeam@Metro.co.uk.\n",
            "\n",
            "MORE : Cosmic forces make October the best time to chase down your goals – here’s what each star sign should focus on\n",
            "\n",
            "MORE : Signs you’re in a codependent relationship – and what to do about it\n",
            "\n",
            "MORE : Three emojis and you’re out: The ‘Red Flag’ texting hack to avoid dating the wrong people\n"
          ]
        }
      ]
    },
    {
      "cell_type": "code",
      "metadata": {
        "colab": {
          "base_uri": "https://localhost:8080/"
        },
        "id": "rqA9cNcpM4tV",
        "outputId": "438084f1-e2f1-4bac-db3f-9997e09ad479"
      },
      "source": [
        "# Proses 2 (Memabagi corpus menjadi perkalimat)\n",
        "\n",
        "# Tokenization\n",
        "text = corpus\n",
        "sentence_list = nltk.sent_tokenize(text) #A list of senetences\n",
        "\n",
        "# Print the list of sentences\n",
        "print(sentence_list)"
      ],
      "execution_count": 16,
      "outputs": [
        {
          "output_type": "stream",
          "name": "stdout",
          "text": [
            "['Steer clear… (Picture: Metro.co.uk)\\n\\nJust as astrology can guide us towards our soul mates, BFFs, best lovers, and long-term partners, it can equally advise where we should not dare to tread.', 'Some star signs are destined to clash, and the cosmic fallout can be dramatic.', 'Avoid the drama and heed this guide.', 'Ahead you’ll find each star sign’s fated enemy.', 'Aries – Pisces\\n\\nThe first and last signs of the zodiac, as far apart (and close together, as the zodiac is a wheel) as any in terms of temperament, motives, traits, humour, values and needs.', 'Aries is a go-getting, ultra-competitive, devil-may-care thrill seeker.', 'Pisces is a whimsical, romantic, imaginative, prone-to-martyrdom empath.', 'These two don’t get each other, and Aries can (without really meaning to, because Aries isn’t overtly unkind) upset Pisces without even lifting a finger.', 'Meanwhile Pisces can drive Aries to distraction with their self-sacrifice and overthinking.', 'Each is a frustrating enigma to the other.', 'Taurus – Sagittarius\\n\\nThe only thing these two really have in common is a healthy appetite for sex and physical contact, so this can work as a steamy, fast fling but, longer term… yikes.', 'Taurus likes control, Sagittarius revokes and rejects any form of control, thank you.', 'Taurus thinks long and hard about what they say and do, Sagittarius says and does whatever first pops into their head the moment it pops there.', 'Taurus saves and plans for the future, Sagittarius lives like there’s no tomorrow.', 'Taurus likes to stay in, Sagittarius cannot stay in.', 'You get the picture.', 'Gemini – Cancer\\n\\nAlthough these two sit next to each other on the zodiac wheel, they are miles and miles apart in every other respect.', 'The main sticking point between them is that Gemini is all about space, freedom, independence, and having many casual connections, whereas Cancer is all about bonding, closeness, intimacy, and a handful of total live-in-eachother’s-pockets connections.', 'Gemini is also a smart-mouthed, mickey-taking prankster, and Cancer can’t bear to be poked fun at.', 'This relationship usually ends in tears (from Cancer) and villainy (from Gemini).', 'Leo – Virgo\\n\\nThis relationship has naughty pupil/strict headteacher (guess who’s who) written all over it, which might make for an exciting roleplay, fun for a night but not for a lifetime.', 'Leo just wants to be admired, adored, calling the shots, being a rascal and having fun.', 'Basically absorbing a whole heap of energy, and getting first dibs on everything.', 'Virgo will seethe (silently for a while) at this perceived liberty taking, because Virgo can’t bear to waste energy on pointless flatteries or let other people do what they know they can do better.', 'This pair can quickly descend into an icy battle of wills.', 'Libra – Capricorn\\n\\nVenus meets Saturn.', 'Pleasure meets duty.', 'Indulgence meets obligation.', 'This pairing is destined for arguments about money, time-wasting, laziness, and control.', 'Libra is all up for a good time, and loves to spend/shop/play/chill/indulge themselves.', 'At the other end of the spectrum sits Capricorn, who loves to earn/save/work/ improve/progress.', 'Although things may swim along okay for a while, as Libra is so tactful and charming they can make almost anything work, the cracks will soon appear when real life comes a-knocking, and the bills need paying.', 'Scorpio – Aquarius\\n\\nClash of the titans.', 'Pluto meets Uranus, two outer planets that have fearless, independent and powerful energy, and bend to no one.', 'Neither of these signs knows a thing about compromise, which is an essential ingredient of any successful relationship.', 'Both are stubborn, resolute, fixed in their opinions, and kind of guarded (dare I say secretive) about their desires and flaws.', 'This can lead to an epic stand-off.', 'Scorpio has intensity and a thirst to control.', 'Aquarius is more fluid and slips away from any attempts to domineer.', 'They just can’t get a handle on each other, or learn to live together.', 'Kerry King, the tarot queen, uses tarot and star sign wisdom to create inspiring forecasts and insights, with over 25 years fortune telling experience, and many happy clients all over the world.', 'You can book a personal, written reading, which comes as a beautifully illustrated brochure, through Etsy or join her new Tarot Club and get weekly forecasts and more for £5 a month.', 'Do you have a story to share?', 'Get in touch by emailing MetroLifestyleTeam@Metro.co.uk.', 'MORE : Cosmic forces make October the best time to chase down your goals – here’s what each star sign should focus on\\n\\nMORE : Signs you’re in a codependent relationship – and what to do about it\\n\\nMORE : Three emojis and you’re out: The ‘Red Flag’ texting hack to avoid dating the wrong people']\n"
          ]
        }
      ]
    },
    {
      "cell_type": "code",
      "metadata": {
        "id": "t_3lCKDtNBQv"
      },
      "source": [
        "# Proses 3 (Bot Response)\n",
        "\n",
        "#a function to return a random greeting response to a users greeting\n",
        "def greeting_response(text):\n",
        "    text = text.lower()\n",
        "    \n",
        "    #Bots greeting respone\n",
        "    bot_greetings = ['howdy','hi','hello','hola']\n",
        "    \n",
        "    #Users greeting\n",
        "    user_greetings = ['hi','hey','hello','greetings','wassup']\n",
        "    \n",
        "    for word in text.split():\n",
        "        if word in user_greetings:\n",
        "            return random.choice(bot_greetings)\n",
        "        \n",
        "    #Random response to greeting\n",
        "    def gratitude_response(text):\n",
        "        text=text.lower()"
      ],
      "execution_count": 17,
      "outputs": []
    },
    {
      "cell_type": "code",
      "metadata": {
        "id": "d4xVeDc6NTNy"
      },
      "source": [
        "# Sorting List\n",
        "\n",
        "def index_sort(list_var):\n",
        "    length = len(list_var)\n",
        "    list_index = list(range(0, length))\n",
        "    \n",
        "    x = list_var        \n",
        "    for i in range(length):\n",
        "        for j in range(length):\n",
        "            if x[list_index[i]] > x[list_index[j]]:\n",
        "                #swap\n",
        "                temp = list_index[i]\n",
        "                list_index[i] = list_index[j]\n",
        "                list_index[j] = temp\n",
        "                \n",
        "    return list_index"
      ],
      "execution_count": 18,
      "outputs": []
    },
    {
      "cell_type": "code",
      "metadata": {
        "id": "34KWutAlNbjA"
      },
      "source": [
        "# Chatbot Respon Menggunakan Cosine Similarity\n",
        "\n",
        "# Creat Bots Response\n",
        "def bot_response(user_input):\n",
        "    user_input=user_input.lower() #Merubah input dari user menjadi huruf kecil\n",
        "    sentence_list.append(user_input) #Memasukkan input user kedalam corpus yg kita punya (corpus disimpan dalam variabel sentence_list)\n",
        "    bot_response= '' #Inisialisasi variabel bot response\n",
        "\n",
        "    cm=CountVectorizer().fit_transform(sentence_list) #Melakukan ekstraksi fitur pada corpus yg kita punya menggunakan CountVectorizer (Bag of Word)\n",
        "\n",
        "    similarity_scores=cosine_similarity(cm[-1],cm) #Menghitung cosine similarity antara hasil fitur ekstraksi input user (cm[-1]) dengan semua data dalam corpus\n",
        "    similarity_scores_list=similarity_scores.flatten() #Merubah hasil perhitungan cosine similarity menjadi list 1D\n",
        "    index=index_sort(similarity_scores_list) #Melakukan sorting untuk index pada similarity score berdasarkan element yg terbesar, kemudian hasilnya disimpan pada list yg bernama index\n",
        "    index=index[1:] \n",
        "\n",
        "    response_flag=0 \n",
        "    for i in range(len(index)):\n",
        "        if similarity_scores_list[index[i]]>0.0:\n",
        "            bot_response=bot_response+' '+sentence_list[index[i]]\n",
        "            response_flag=1\n",
        "\n",
        "        if response_flag==0:\n",
        "            bot_response=bot_response+\" \"+\"I apologize, I dont understand\" #Jika respon_flag = 0 (tidak ada kata yg cocok) maka akan memberikan response  apologize, I dont understand.\n",
        "\n",
        "        sentence_list.remove(user_input) #Meremove user_input yg sudah dimasukkan kedalam sentence_list (Corpus yg kita punya).\n",
        "\n",
        "        return bot_response"
      ],
      "execution_count": 19,
      "outputs": []
    },
    {
      "cell_type": "code",
      "metadata": {
        "id": "L7WyCP80Nllj",
        "colab": {
          "base_uri": "https://localhost:8080/"
        },
        "outputId": "6ee5e578-4342-47db-fa2d-045cfda985e4"
      },
      "source": [
        "# Proses 4 (End Process, Making chat box)\n",
        "\n",
        "#Start Chat\n",
        "print(\"Doc Bot: I am DOc bot and I will answer your queries about zodiac, if you want to exit type, bye  ?\")\n",
        "\n",
        "exit_list=['exit','bye','see you later','quit']\n",
        "\n",
        "while(True):\n",
        "    user_input=input() #mengambil input pada user\n",
        "    if user_input.lower() in exit_list: #kalau input dari user ada didalam exit_list maka program akan berhenti\n",
        "        print('Doc Bot: Bye Bye See you later')\n",
        "        break\n",
        "    else:\n",
        "        if greeting_response(user_input)!= None: #Mengecek apakah input dari user masuk kedalam greeting atau bukan\n",
        "            print('Doc Bot: '+ greeting_response(user_input)) #Jika masuk kedalam greeting maka bot akan melakukan response terhadap greeting tersebut\n",
        "        else:\n",
        "            print('Doc Bot: '+ bot_response(user_input)) #Jika bukan, maka bot akan memanggil fungsi bot_response untuk menentukan respon apa yg akan ia keluarkan sesuai dengan input dari user"
      ],
      "execution_count": 21,
      "outputs": [
        {
          "output_type": "stream",
          "name": "stdout",
          "text": [
            "Doc Bot: I am DOc bot and I will answer your queries about zodiac, if you want to exit type, bye  ?\n",
            "libra\n",
            "Doc Bot:  Libra – Capricorn\n",
            "\n",
            "Venus meets Saturn.\n",
            "Scorpio – Aquarius\n",
            "Doc Bot:  Scorpio – Aquarius\n",
            "\n",
            "Clash of the titans.\n",
            "water\n",
            "Doc Bot:  I apologize, I dont understand\n",
            "quit\n",
            "Doc Bot: Bye Bye See you later\n"
          ]
        }
      ]
    }
  ]
}