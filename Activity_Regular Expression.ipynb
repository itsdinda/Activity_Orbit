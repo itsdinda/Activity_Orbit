{
 "cells": [
  {
   "cell_type": "code",
   "execution_count": 1,
   "id": "dcf8e17a",
   "metadata": {},
   "outputs": [],
   "source": [
    "import re "
   ]
  },
  {
   "cell_type": "code",
   "execution_count": 52,
   "id": "458c12db",
   "metadata": {},
   "outputs": [],
   "source": [
    "txt = 'Halo semua, namaku Andy Joe. Kemarin smartphoneku mendapat SMS tagihan Pinjaman Online dari nomor 08004398499. Selain itu emailku juga mendapatkan pesan serupa dari debtcollector@pinjolninuninu.com. Ternyata salah satu temanku menjadikan nomor telepon dan emailku sebagai penanggungjawab pinjaman onlinenya :(. Tak lama sosok pria berbadan bongsor datang ke rumahku dengan menggunakan mogenya. Ia menanyakan keberadaan temanku yang meminjam uang di perusahaan Pinjol tersebut. Aku yang tak tahu keberadaannya pun menjawab apa adanya. Tak lama kemudian pria tersebut pergi dan segera kuambil gambar mogenya dengan plat PO 3030 AY. Setelah itu aku menghubungi temanku dan meminta penjelasan kepadanya.'"
   ]
  },
  {
   "cell_type": "markdown",
   "id": "4a689054",
   "metadata": {},
   "source": [
    "Nomor Telepon"
   ]
  },
  {
   "cell_type": "code",
   "execution_count": 53,
   "id": "f4604d0b",
   "metadata": {},
   "outputs": [
    {
     "name": "stdout",
     "output_type": "stream",
     "text": [
      "08004398499\n"
     ]
    }
   ],
   "source": [
    "telp_pattern = re.compile(r'(\\d{3}[-\\.\\s]??\\d{3}[-\\.\\s]??\\d{4,6}|\\(\\d{3}\\)\\s*\\d{3}[-\\.\\s]??\\d{4,6}\\d{3,4}[-\\.\\s]??\\d{4,6})') \n",
    "number = re.findall(telp_pattern,txt)[0] \n",
    "print(str(number)) "
   ]
  },
  {
   "cell_type": "markdown",
   "id": "19c10453",
   "metadata": {},
   "source": [
    "Email"
   ]
  },
  {
   "cell_type": "code",
   "execution_count": 54,
   "id": "ce8daf0f",
   "metadata": {},
   "outputs": [
    {
     "name": "stdout",
     "output_type": "stream",
     "text": [
      "debtcollector@pinjolninuninu.com\n"
     ]
    }
   ],
   "source": [
    "email_pattern = re.compile(r'([a-zA-Z0-9]+@[a-zA-Z]+\\.[a-zA-Z]{2,4})') \n",
    "email = re.findall(email_pattern,txt)[0] \n",
    "print(email)"
   ]
  },
  {
   "cell_type": "markdown",
   "id": "5a4dc08d",
   "metadata": {},
   "source": [
    "Plat Nomor"
   ]
  },
  {
   "cell_type": "code",
   "execution_count": 55,
   "id": "c994aa19",
   "metadata": {},
   "outputs": [
    {
     "name": "stdout",
     "output_type": "stream",
     "text": [
      "PO 3030 AY\n"
     ]
    }
   ],
   "source": [
    "plat_pattern = re.compile(r'[A-Z]{1,2}\\s\\d{1,4}\\s[A-Z]{1,3}')\n",
    "plat = re.findall(plat_pattern,txt)[0] \n",
    "print(plat) "
   ]
  },
  {
   "cell_type": "markdown",
   "id": "2a4b4f2c",
   "metadata": {},
   "source": [
    "# 1. Buatlah format pesan kepada teman Andy Joe untuk meminta penjelasan terkait dengan situasi yang sedang terjadi. (ganti teks yang cetak miring dan tebal menjadi nomor debtcollector, email debtcollector dan plat nomor)"
   ]
  },
  {
   "cell_type": "markdown",
   "id": "f504e74e",
   "metadata": {},
   "source": [
    "Format Pesan:"
   ]
  },
  {
   "cell_type": "markdown",
   "id": "6c5a668f",
   "metadata": {},
   "source": [
    "\"Halo xxxxx, Aku tadi habis didatangi debtcollector. Dia mengirimiku pesan lewat nomornya yaitu nomor_debtcollector dan email email_debtcollector. Dia bilang kamu jadiin nomorku dan emailku sebagai penanggungjawab. Bisa tolong jelasin? Terus aku tadi juga sempet foto motor yg dipake mas debtcollector. Plat nomornya plat_nomor_debtcollector.\""
   ]
  },
  {
   "cell_type": "code",
   "execution_count": 56,
   "id": "c0a3ddc3",
   "metadata": {},
   "outputs": [
    {
     "name": "stdout",
     "output_type": "stream",
     "text": [
      "\"Halo xxxxx, Aku tadi habis didatangi debtcollector. Dia mengirimiku pesan lewat nomornya yaitu 08004398499 dan email debtcollector@pinjolninuninu.com. Dia bilang kamu jadiin nomorku dan emailku sebagai penanggungjawab. Bisa tolong jelasin? Terus aku tadi juga sempet foto motor yg dipake mas debtcollector. Plat nomornya PO 3030 AY.\"\n"
     ]
    }
   ],
   "source": [
    "print(f'\"Halo xxxxx, Aku tadi habis didatangi debtcollector. Dia mengirimiku pesan lewat nomornya yaitu {number} dan email {email}. Dia bilang kamu jadiin nomorku dan emailku sebagai penanggungjawab. Bisa tolong jelasin? Terus aku tadi juga sempet foto motor yg dipake mas debtcollector. Plat nomornya {plat}.\"')"
   ]
  },
  {
   "cell_type": "markdown",
   "id": "a4c0cb50",
   "metadata": {},
   "source": [
    "# 2. Buatlah preprocessing sederhana dengan menghilangkan karakter titik, koma dan tanda tanya dari format pesan yang sudah dibuat (Di nomor 1)"
   ]
  },
  {
   "cell_type": "code",
   "execution_count": 57,
   "id": "11e2d5a7",
   "metadata": {},
   "outputs": [
    {
     "name": "stdout",
     "output_type": "stream",
     "text": [
      "Halo xxxxx Aku tadi habis didatangi debtcollector Dia mengirimiku pesan lewat nomornya yaitu 08004398499 dan email debtcollectorpinjolninuninucom Dia bilang kamu jadiin nomorku dan emailku sebagai penanggungjawab Bisa tolong jelasin Terus aku tadi juga sempet foto motor yg dipake mas debtcollector Plat nomornya PO 3030 AY\n"
     ]
    }
   ],
   "source": [
    "name = 'Halo xxxxx, Aku tadi habis didatangi debtcollector. Dia mengirimiku pesan lewat nomornya yaitu 08004398499 dan email debtcollector@pinjolninuninu.com. Dia bilang kamu jadiin nomorku dan emailku sebagai penanggungjawab. Bisa tolong jelasin? Terus aku tadi juga sempet foto motor yg dipake mas debtcollector. Plat nomornya PO 3030 AY.' \n",
    "result = re.sub(r'[@,.?#]', '', name) \n",
    "print(result) "
   ]
  }
 ],
 "metadata": {
  "kernelspec": {
   "display_name": "Python 3",
   "language": "python",
   "name": "python3"
  },
  "language_info": {
   "codemirror_mode": {
    "name": "ipython",
    "version": 3
   },
   "file_extension": ".py",
   "mimetype": "text/x-python",
   "name": "python",
   "nbconvert_exporter": "python",
   "pygments_lexer": "ipython3",
   "version": "3.8.8"
  }
 },
 "nbformat": 4,
 "nbformat_minor": 5
}
