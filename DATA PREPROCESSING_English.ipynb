{
  "nbformat": 4,
  "nbformat_minor": 0,
  "metadata": {
    "colab": {
      "name": "DATA PREPROCESSING_English.ipynb",
      "provenance": [],
      "collapsed_sections": []
    },
    "kernelspec": {
      "name": "python3",
      "display_name": "Python 3"
    },
    "language_info": {
      "name": "python"
    }
  },
  "cells": [
    {
      "cell_type": "code",
      "metadata": {
        "id": "JWASPEhBioO7"
      },
      "source": [
        "# import library yang dibutuhkan\n",
        "import requests \n",
        "from bs4 import BeautifulSoup\n",
        "import re "
      ],
      "execution_count": 47,
      "outputs": []
    },
    {
      "cell_type": "code",
      "metadata": {
        "colab": {
          "base_uri": "https://localhost:8080/",
          "height": 190
        },
        "id": "PcS0KJqzizYn",
        "outputId": "9c282fdf-1899-446c-ba4c-42d2bdf8a283"
      },
      "source": [
        "results = requests.get('https://webscraper.io/blog/the-role-of-big-data') \n",
        "results.text "
      ],
      "execution_count": 48,
      "outputs": [
        {
          "output_type": "execute_result",
          "data": {
            "application/vnd.google.colaboratory.intrinsic+json": {
              "type": "string"
            },
            "text/plain": [
              "'<!DOCTYPE html>\\n<html lang=\"en\">\\n<head>\\n\\n\\t\\t\\t<!-- Anti-flicker snippet (recommended)  -->\\n<style>.async-hide {\\n\\t\\topacity: 0 !important\\n\\t} </style>\\n<script>(function (a, s, y, n, c, h, i, d, e) {\\n\\t\\ts.className += \\' \\' + y;\\n\\t\\th.start = 1 * new Date;\\n\\t\\th.end = i = function () {\\n\\t\\t\\ts.className = s.className.replace(RegExp(\\' ?\\' + y), \\'\\')\\n\\t\\t};\\n\\t\\t(a[n] = a[n] || []).hide = h;\\n\\t\\tsetTimeout(function () {\\n\\t\\t\\ti();\\n\\t\\t\\th.end = null\\n\\t\\t}, c);\\n\\t\\th.timeout = c;\\n\\t})(window, document.documentElement, \\'async-hide\\', \\'dataLayer\\', 4000,\\n\\t\\t{\\'GTM-NVFPDWB\\': true});</script>\\n\\t\\n\\t<!-- Google Tag Manager -->\\n<script>(function (w, d, s, l, i) {\\n\\t\\tw[l] = w[l] || [];\\n\\t\\tw[l].push({\\n\\t\\t\\t\\'gtm.start\\':\\n\\t\\t\\t\\tnew Date().getTime(), event: \\'gtm.js\\'\\n\\t\\t});\\n\\t\\tvar f = d.getElementsByTagName(s)[0],\\n\\t\\t\\tj = d.createElement(s), dl = l != \\'dataLayer\\' ? \\'&l=\\' + l : \\'\\';\\n\\t\\tj.async = true;\\n\\t\\tj.src =\\n\\t\\t\\t\\'https://www.googletagmanager.com/gtm.js?id=\\' + i + dl;\\n\\t\\tf.parentNode.insertBefore(j, f);\\n\\t})(window, document, \\'script\\', \\'dataLayer\\', \\'GTM-NVFPDWB\\');</script>\\n<!-- End Google Tag Manager -->\\n\\t<title>The Instrumental Role of Big Data in Our Lives</title>\\n\\t<meta charset=\"utf-8\">\\n\\t<meta http-equiv=\"X-UA-Compatible\" content=\"IE=edge,chrome=1\">\\n\\n\\t<meta name=\"keywords\"\\n\\t      content=\"Big Data, Data, Global pandemic\"/>\\n\\t<meta name=\"description\"\\n\\t      content=\"With the immense development of technology and an increasing amount of data processed every day, Big Data is evolving and shaping the digital as well as the real-world in many ways.\"/>\\n\\t<link rel=\"icon\" sizes=\"128x128\" href=\"/favicon.png\">\\n\\n\\t<meta name=\"viewport\" content=\"width=device-width, initial-scale=1.0\">\\n\\t\\n\\t<link rel=\"stylesheet\" href=\"/css/app.css?id=e4de8db16b64e604046e\">\\n\\n\\t<link rel=\"canonical\" href=\"https://webscraper.io/blog/the-role-of-big-data\">\\n\\t<link rel=\"apple-touch-icon\" href=\"/img/logo-icon.png\">\\n\\n\\t\\t<script defer src=\"/js/app.js?id=e64f07a3ce1d466cf04c\"></script>\\n\\n\\t\\t\\t\\t<meta property=\"og:title\" content=\"The Instrumental Role of Big Data in our lives\"/>\\n\\t\\n\\t\\t\\t<meta property=\"og:description\" content=\"With the immense development of technology and an increasing amount of data processed every day, Big Data is evolving and shaping the digital as well as the real-world in many ways.\"/>\\n\\t\\n\\t\\t\\t<meta property=\"og:image\" content=\"https://blog-images.webscraper.io/images/6IqUjWb2PBk6SQKMkmYxMK0Qt7970LXUQdZ0zjeA.png\"/>\\n\\t\\n\\t<meta name=\"twitter:card\" content=\"summary\"/>\\n\\n\\t\\t\\t<meta name=\"twitter:title\" content=\"The Instrumental Role of Big Data in our lives\"/>\\n\\t\\n\\t\\t\\t<meta name=\"twitter:description\" content=\"With the immense development of technology and an increasing amount of data processed every day, Big Data is evolving and shaping the digital as well as the real-world in many ways.\"/>\\n\\t\\n</head>\\n<body>\\n<!-- Google Tag Manager (noscript) -->\\n<noscript>\\n\\t<iframe src=\"https://www.googletagmanager.com/ns.html?id=GTM-NVFPDWB\"\\n\\t        height=\"0\" width=\"0\" style=\"display:none;visibility:hidden\"></iframe>\\n</noscript>\\n<!-- End Google Tag Manager (noscript) -->\\n<header role=\"banner\" class=\"navbar navbar-fixed-top navbar-static\">\\n\\t<div class=\"container\">\\n\\n\\t\\t<div class=\"navbar-header\">\\n\\n\\t\\t\\t<a data-toggle=\"collapse-side\" data-target=\".side-collapse\" data-target-2=\".side-collapse-container\">\\n\\t\\t\\t\\t<button type=\"button\" class=\"navbar-toggle pull-right collapsed\" data-toggle=\"collapse\"\\n\\t\\t\\t\\t        data-target=\"#navbar\" data-target-2=\".side-collapse-container\" data-target-3=\".side-collapse\"\\n\\t\\t\\t\\t        aria-expanded=\"false\" aria-controls=\"navbar\">\\n\\n\\t\\t\\t\\t\\t<span class=\"sr-only\">Toggle navigation</span>\\n\\t\\t\\t\\t\\t<span class=\"icon-bar top-bar\"></span>\\n\\t\\t\\t\\t\\t<span class=\"icon-bar middle-bar\"></span>\\n\\t\\t\\t\\t\\t<span class=\"icon-bar bottom-bar\"></span>\\n\\n\\t\\t\\t\\t</button>\\n\\t\\t\\t</a>\\n\\t\\t\\t<div class=\"navbar-brand\">\\n\\t\\t\\t\\t<a href=\"/\"><img src=\"/img/logo_white.svg\" alt=\"Web Scraper\"></a>\\n\\t\\t\\t</div>\\n\\t\\t</div>\\n\\n\\t\\t<div class=\"side-collapse in\">\\n\\t\\t\\t<nav id=\"navbar\" role=\"navigation\" class=\"navbar-collapse collapse\">\\n\\t\\t\\t\\t<ul class=\"nav navbar-nav navbar-right\">\\n\\t\\t\\t\\t\\t<li class=\"hidden\">\\n\\t\\t\\t\\t\\t\\t<a href=\"#page-top\"></a>\\n\\t\\t\\t\\t\\t</li>\\n\\t\\t\\t\\t\\t\\n\\t\\t\\t\\t\\t\\n\\t\\t\\t\\t\\t\\n\\t\\t\\t\\t\\t\\n\\t\\t\\t\\t\\t\\n\\t\\t\\t\\t\\t\\n\\t\\t\\t\\t\\t\\n\\t\\t\\t\\t\\t<li>\\n\\t\\t\\t\\t\\t\\t<a href=\"/\" class=\"menuitm\">\\n\\t\\t\\t\\t\\t\\t\\t<p>Web Scraper</p>\\n\\t\\t\\t\\t\\t\\t\\t<div class=\"crta\"></div>\\n\\t\\t\\t\\t\\t\\t</a>\\n\\t\\t\\t\\t\\t</li>\\n\\t\\t\\t\\t\\t<li>\\n\\t\\t\\t\\t\\t\\t<a href=\"/cloud-scraper\" class=\"menuitm\">\\n\\t\\t\\t\\t\\t\\t\\t<p>Cloud Scraper</p>\\n\\t\\t\\t\\t\\t\\t\\t<div class=\"crta\"></div>\\n\\t\\t\\t\\t\\t\\t</a>\\n\\t\\t\\t\\t\\t</li>\\n\\t\\t\\t\\t\\t<li>\\n\\t\\t\\t\\t\\t\\t<a href=\"/pricing\" class=\"menuitm\">\\n\\t\\t\\t\\t\\t\\t\\t<p>Pricing</p>\\n\\t\\t\\t\\t\\t\\t\\t<div class=\"crta\"></div>\\n\\t\\t\\t\\t\\t\\t</a>\\n\\t\\t\\t\\t\\t</li>\\n\\t\\t\\t\\t\\t\\n\\t\\t\\t\\t\\t\\n\\t\\t\\t\\t\\t\\n\\t\\t\\t\\t\\t\\n\\t\\t\\t\\t\\t\\n\\t\\t\\t\\t\\t\\n\\t\\t\\t\\t\\t\\n\\t\\t\\t\\t\\t\\n\\t\\t\\t\\t\\t\\n\\t\\t\\t\\t\\t\\n\\t\\t\\t\\t\\t<li class=\"dropdown\">\\n\\t\\t\\t\\t\\t\\t<a href=\"#section3\" class=\"menuitm dropdown-toggle\" data-toggle=\"dropdown\">\\n\\t\\t\\t\\t\\t\\t\\t<p>Learn</p>\\n\\t\\t\\t\\t\\t\\t\\t<div class=\"crta\"></div>\\n\\t\\t\\t\\t\\t\\t</a>\\n\\t\\t\\t\\t\\t\\t<ul class=\"dropdown-menu\">\\n\\t\\t\\t\\t\\t\\t\\t<li>\\n\\t\\t\\t\\t\\t\\t\\t\\t<a href=\"/documentation\">Documentation</a>\\n\\t\\t\\t\\t\\t\\t\\t</li>\\n\\t\\t\\t\\t\\t\\t\\t<li>\\n\\t\\t\\t\\t\\t\\t\\t\\t<a href=\"/tutorials\">Video Tutorials</a>\\n\\t\\t\\t\\t\\t\\t\\t</li>\\n\\t\\t\\t\\t\\t\\t\\t<li>\\n\\t\\t\\t\\t\\t\\t\\t\\t<a href=\"/how-to-videos\">How to</a>\\n\\t\\t\\t\\t\\t\\t\\t</li>\\n\\t\\t\\t\\t\\t\\t\\t<li>\\n\\t\\t\\t\\t\\t\\t\\t\\t<a href=\"/test-sites\">Test Sites</a>\\n\\t\\t\\t\\t\\t\\t\\t</li>\\n\\t\\t\\t\\t\\t\\t\\t<li>\\n\\t\\t\\t\\t\\t\\t\\t\\t<a href=\"https://forum.webscraper.io/\" target=\"_blank\" rel=\"noopener\">Forum</a>\\n\\t\\t\\t\\t\\t\\t\\t</li>\\n\\t\\t\\t\\t\\t\\t</ul>\\n\\t\\t\\t\\t\\t</li>\\n\\t\\t\\t\\t\\t<li>\\n\\t\\t\\t\\t\\t\\t<a target=\"_blank\" href=\"https://chrome.google.com/webstore/detail/web-scraper/jnhgnonknehpejjnehehllkliplmbmhn?hl=en\" class=\"btn-menu1 install-extension\" rel=\"noopener\">Install</a>\\n\\t\\t\\t\\t\\t</li>\\n\\t\\t\\t\\t\\t<li>\\n\\t\\t\\t\\t\\t\\t<a href=\"https://cloud.webscraper.io/\" class=\"btn-menu2\">Login</a>\\n\\t\\t\\t\\t\\t</li>\\n\\t\\t\\t\\t</ul>\\n\\t\\t\\t</nav>\\n\\t\\t</div>\\n\\t</div>\\n</header>\\n\\n<div class=\"wrapper\">\\n\\t\\t<div class=\"formenu-here container-fluid\">\\n\\n\\t</div>\\n\\n\\t\\t<div class=\"container-fluid blog-page\">\\n\\t\\t<div class=\"container blog-content-container\">\\n\\t\\t\\t<div class=\"row\">\\n\\t\\t\\t\\t<div class=\"col-md-12\">\\n\\t\\t\\t\\t\\t<div class=\"bloginside\" itemscope itemtype=\"https://schema.org/Blog\">\\n\\t\\t\\t\\t\\t\\t<h1 itemprop=\"headline\">The Instrumental Role of Big Data in Our Lives</h1>\\n\\t\\t\\t\\t\\t\\t<p class=\"date\" itemprop=\"datePublished\">May 12, 2020</p>\\n\\t\\t\\t\\t\\t\\t<p class=\"category\" itemprop=\"keywords\">Big Data, Data, Global pandemic</p>\\n\\n\\t\\t\\t\\t\\t\\t<ul class=\"share-buttons\">\\n\\t<li class=\"share-on-social facebook\">\\n\\t\\t<a class=\"share-button\" id=\"fbShareBtn\">\\n\\t\\t\\t<i class=\"fa fa-facebook\"></i>\\n\\t\\t</a>\\n\\t\\t<script>\\n\\t\\t\\tdocument.getElementById(\\'fbShareBtn\\').onclick = function () {\\n\\t\\t\\t\\twindow.open(\"https://www.facebook.com/sharer/sharer.php?u=\" + window.location.href, \"pop\", \"width=800, height=600, scrollbars=no\");\\n\\t\\t\\t};\\n\\t\\t</script>\\n\\t</li>\\n\\n\\t<li class=\"share-on-social twitter\">\\n\\t\\t<a class=\"share-button\" id=\"twitterShareBtn\">\\n\\t\\t\\t<i class=\"fa fa-twitter\"></i>\\n\\t\\t</a>\\n\\t\\t<script>\\n\\t\\t\\tdocument.getElementById(\\'twitterShareBtn\\').onclick = function () {\\n\\t\\t\\t\\twindow.open(\"https://twitter.com/intent/tweet?url=\" + encodeURIComponent(window.location.href), \"pop\", \"width=800, height=600, scrollbars=no\");\\n\\t\\t\\t};\\n\\t\\t</script>\\n\\t</li>\\n\\n\\t<li class=\"share-on-social linkedin\">\\n\\t\\t<a class=\"share-button\" id=\"linkedinShareBtn\">\\n\\t\\t\\t<i class=\"fa fa-linkedin\"></i>\\n\\t\\t</a>\\n\\t\\t<script>\\n\\t\\t\\tdocument.getElementById(\\'linkedinShareBtn\\').onclick = function () {\\n\\t\\t\\t\\twindow.open(\"https://www.linkedin.com/shareArticle?mini=true&url=\" + window.location.href, \"pop\", \"width=800, height=600, scrollbars=no\");\\n\\t\\t\\t};\\n\\t\\t</script>\\n\\t</li>\\n\\n\\t<li class=\"share-on-social reddit\">\\n\\t\\t<a class=\"share-button\" id=\"redditShareBtn\">\\n\\t\\t\\t<i class=\"fa fa-reddit\"></i>\\n\\t\\t</a>\\n\\t\\t<script>\\n\\t\\t\\tdocument.getElementById(\\'redditShareBtn\\').onclick = function () {\\n\\t\\t\\t\\twindow.open(\"http://www.reddit.com/submit?url=\" + window.location.href, \"pop\", \"width=800, height=600, scrollbars=no\");\\n\\t\\t\\t};\\n\\t\\t</script>\\n\\t</li>\\n\\n\\t<li class=\"share-on-social whatsapp\">\\n\\t\\t<a class=\"share-button\" id=\"whatsappShareBtn\">\\n\\t\\t\\t<i class=\"fa fa-whatsapp\"></i>\\n\\t\\t</a>\\n\\t\\t<script>\\n\\t\\t\\tdocument.getElementById(\\'whatsappShareBtn\\').onclick = function () {\\n\\t\\t\\t\\twindow.open(\"https://wa.me/?text=\" + encodeURIComponent(window.location.href), \"pop\", \"width=800, height=600, scrollbars=no\");\\n\\t\\t\\t};\\n\\t\\t</script>\\n\\t</li>\\n\\n\\t<li class=\"share-on-social telegram\">\\n\\t\\t<a class=\"share-button\" id=\"telegramShareBtn\">\\n\\t\\t\\t<i class=\"fa fa-send\"></i>\\n\\t\\t</a>\\n\\t\\t<script>\\n\\t\\t\\tdocument.getElementById(\\'telegramShareBtn\\').onclick = function () {\\n\\t\\t\\t\\twindow.open(\"https://t.me/share/url?url=\" + encodeURIComponent(window.location.href), \"pop\", \"width=800, height=600, scrollbars=no\");\\n\\t\\t\\t};\\n\\t\\t</script>\\n\\t</li>\\n</ul>\\n\\n\\t\\t\\t\\t\\t\\t<div class=\"image-container\">\\n\\t\\t\\t\\t\\t\\t\\t<img class=\"img-responsive\" src=\"https://blog-images.webscraper.io/images/6IqUjWb2PBk6SQKMkmYxMK0Qt7970LXUQdZ0zjeA.png\" itemprop=\"image\" alt=The Instrumental Role Of Big Data Web Scraper Blog>\\n\\t\\t\\t\\t\\t\\t</div>\\n\\n\\t\\t\\t\\t\\t\\t<div itemprop=\"text\">\\n\\t\\t\\t\\t\\t\\t\\t<p>Enormous amounts of data that traditional data-processing application software is not capable of dealing with, that is used for analyzing to reveal trends, patterns, associations of especially human behavior and interactions. The subject of Big Data and the usage has increased highly over recent years. With the immense development of technology and the large sets of data that are processed every day, the questions of how to take advantage of it is on everyone’s mind, regardless of the industry.</p><hr><h2>The Health Industry - Improving Health</h2><p>It is no surprise that the health industry is one of the most important sectors to which Big Data is crucial nowadays. Big Data might not be the direct gateway for discovering a cure for a virus recipe; however, the great power of big data analytics allows scientists to decode entire DNA strings in minutes which will enhance the process of finding new cures and to better comprehend and predict disease patterns. Also, such technologies and gadgets, apps that promote healthier living have become a sphere of many technology companies, such as Apple, helping health organizations and scientists to compile data for health studies and researches. Such mobile applications as Apple’s health app “ResearchKit” turns the users’ phone into a biomedical research device, providing huge amounts of iPhone user data for researchers to conduct different studies and research on human behavior of different health aspects. Such powerful combos and their constant development have and continue to change industries. It might be that in the future clinical trials would not be limited by small sample sizes but could potentially include everyone!</p><h2>The Sports Industry - Entertainment</h2><p>One of the biggest human interest bonding industries is sports. Big Data analytics allows companies to create technology that enhances player health conditions, strength, and caution of injuries. For example, the NFL has developed their own platform of applications that facilitate all 32 teams of creating the finest decisions based on everything, starting from the conditions of the grass of the fields, to the weather conditions. Also, thoroughly creating statistical data about individual player performance while in university. Such Big Data is used simply in the pursuance of better game strategies and as well for reducing player injuries. All for the spirit of sports and entertainment!&nbsp;</p><h2>The Coronavirus Pandemic</h2><p>Big Data has become essential for overcoming the COVID-19 pandemic. Statistics that update everyone in near real-time of worldwide cases is an excellent example of how Big Data is used. In such times it is vital that people bond and embrace togetherness whilst self-isolating and keeping a 2-meter distance. With the technology available nowadays, it has been able to tell about how and where the virus is spreading; therefore, easing ways of containing it and alerting nations. Creatively harnessing the power of Big Data of using temperature detection from smart thermometers for COVID-19 hot spot detection, or cellphone location data aggregation for pointing to the areas of the parts where people are staying home. It is hard to imagine a world of such times without the ability to use Big Data, but it, without any doubt, plays a massive role in helping to fight the pandemic.</p><p>These are only some aspects of Big Data usage, there are many more to explore and find information on. However, it is no lie that technologies and the usage of Big Data is developing and shaping the digital as well as the real-world in many ways.&nbsp;</p><p><br></p><p><br></p><p><br></p><p><br></p>\\n\\t\\t\\t\\t\\t\\t</div>\\n\\n\\t\\t\\t\\t\\t\\t<div class=\"crta\"></div>\\n\\n\\t\\t\\t\\t\\t\\t<a class=\"linkforback\" href=\"/blog\"><i class=\"fa fa-angle-left\"></i> Go\\n\\t\\t\\t\\t\\t\\t\\tback to blog page</a>\\n\\t\\t\\t\\t\\t</div>\\n\\t\\t\\t\\t</div>\\n\\t\\t\\t\\t\\n\\t\\t\\t</div>\\n\\t\\t</div>\\n\\t</div>\\n\\t<div class=\"clearfix\"></div>\\n\\t<div class=\"push\"></div>\\n</div>\\n\\n<div class=\"container-fluid footer\" id=\"layout-footer\">\\n\\t<div class=\"container\">\\n\\t\\t<div class=\"row\">\\n\\t\\t\\t<div class=\"col-md-3\">\\n\\t\\t\\t\\t<ul>\\n\\t\\t\\t\\t\\t<li><p>Products</p></li>\\n\\t\\t\\t\\t\\t<li>\\n\\t\\t\\t\\t\\t\\t<a href=\"/\">Web Scraper browser extension</a>\\n\\t\\t\\t\\t\\t</li>\\n\\t\\t\\t\\t\\t<li>\\n\\t\\t\\t\\t\\t\\t<a href=\"/pricing\">Web Scraper Cloud</a>\\n\\t\\t\\t\\t\\t</li>\\n\\t\\t\\t\\t\\t\\t\\t\\t\\t\\t\\n\\t\\t\\t\\t\\t\\n\\t\\t\\t\\t</ul>\\n\\t\\t\\t</div>\\n\\t\\t\\t<div class=\"col-md-3\">\\n\\t\\t\\t\\t<ul>\\n\\t\\t\\t\\t\\t<li><p>Company</p></li>\\n\\t\\t\\t\\t\\t\\n\\t\\t\\t\\t\\t<li><a href=\"/contact\">Contact</a>\\n\\t\\t\\t\\t\\t</li>\\n\\t\\t\\t\\t\\t\\n\\t\\t\\t\\t\\t<li>\\n\\t\\t\\t\\t\\t\\t<a href=\"/privacy-policy\">Website Privacy Policy</a>\\n\\t\\t\\t\\t\\t</li>\\n\\t\\t\\t\\t\\t<li>\\n\\t\\t\\t\\t\\t\\t<a href=\"/extension-privacy-policy\">Browser Extension Privacy Policy</a>\\n\\t\\t\\t\\t\\t</li>\\n\\t\\t\\t\\t\\t<li>\\n\\t\\t\\t\\t\\t\\t<a href=\"http://webscraperio.us-east-1.elasticbeanstalk.com/downloads/Web_Scraper_Media_Kit.zip\">Media kit</a>\\n\\t\\t\\t\\t\\t</li>\\n\\t\\t\\t\\t\\t\\n\\t\\t\\t\\t\\t<li><a href=\"/jobs\">Jobs</a></li>\\n\\t\\t\\t\\t</ul>\\n\\t\\t\\t</div>\\n\\t\\t\\t<div class=\"col-md-3\">\\n\\t\\t\\t\\t<ul>\\n\\t\\t\\t\\t\\t<li><p>Resources</p></li>\\n\\t\\t\\t\\t\\t<li><a href=\"/blog\">Blog</a></li>\\n\\t\\t\\t\\t\\t<li>\\n\\t\\t\\t\\t\\t\\t<a href=\"/documentation\">Documentation</a>\\n\\t\\t\\t\\t\\t</li>\\n\\t\\t\\t\\t\\t<li>\\n\\t\\t\\t\\t\\t\\t<a href=\"/tutorials\">Video Tutorials</a>\\n\\t\\t\\t\\t\\t</li>\\n\\t\\t\\t\\t\\t<li>\\n\\t\\t\\t\\t\\t\\t<a href=\"/screenshots\">Screenshots</a>\\n\\t\\t\\t\\t\\t</li>\\n\\t\\t\\t\\t\\t<li>\\n\\t\\t\\t\\t\\t\\t<a href=\"/test-sites\">Test Sites</a>\\n\\t\\t\\t\\t\\t</li>\\n\\t\\t\\t\\t\\t<li>\\n\\t\\t\\t\\t\\t\\t<a target=\"_blank\" href=\"https://forum.webscraper.io/\" rel=\"noopener\">Forum</a>\\n\\t\\t\\t\\t\\t</li>\\n\\t\\t\\t\\t</ul>\\n\\t\\t\\t</div>\\n\\t\\t\\t<div class=\"col-md-3\">\\n\\t\\t\\t\\t<ul>\\n\\t\\t\\t\\t\\t<li><p>CONTACT US</p></li>\\n\\t\\t\\t\\t\\t<li>\\n\\t\\t\\t\\t\\t\\t<a href=\"mailto:info@webscraper.io\">info@webscraper.io</a>\\n\\t\\t\\t\\t\\t</li>\\n\\t\\t\\t\\t\\t\\n\\t\\t\\t\\t\\t<li>Rupniecibas iela 30,<br> Riga, Latvia, LV-1045</li>\\n\\t\\t\\t\\t</ul>\\n\\t\\t\\t\\t<ul class=\"smedia\">\\n\\t\\t\\t\\t\\t<li>\\n\\t\\t\\t\\t\\t\\t<a href=\"https://www.facebook.com/webscraperio/\" target=\"_blank\" rel=\"noopener\"><img src=\"/img/fbicon.png\" alt=\"Web Scraper on Facebook\"></a>\\n\\t\\t\\t\\t\\t</li>\\n\\t\\t\\t\\t\\t<li>\\n\\t\\t\\t\\t\\t\\t<a href=\"https://twitter.com/webscraperio\" target=\"_blank\" rel=\"noopener\"><img src=\"/img/twicon.png\" alt=\"Web Scraper on Twitter\"></a>\\n\\t\\t\\t\\t\\t</li>\\n\\t\\t\\t\\t\\t\\n\\n\\t\\t\\t\\t</ul>\\n\\t\\t\\t</div>\\n\\t\\t</div>\\n\\t\\t<div class=\"row\">\\n\\t\\t\\t<div class=\"col-md-12\">\\n\\t\\t\\t\\t<p class=\"copyright\">Copyright &copy 2021\\n\\t\\t\\t\\t\\t<a href=\"#\">Web Scraper</a> | All rights\\n\\t\\t\\t\\t\\treserved | Made by zoom59</p>\\n\\t\\t\\t</div>\\n\\t\\t</div>\\n\\t</div>\\n</div>\\n\\n\\n</body>\\n</html>\\n'"
            ]
          },
          "metadata": {},
          "execution_count": 48
        }
      ]
    },
    {
      "cell_type": "code",
      "metadata": {
        "id": "nLbk3z2TjGIZ"
      },
      "source": [
        "# Parsing \n",
        "WP = BeautifulSoup(results.text,'html.parser') "
      ],
      "execution_count": 49,
      "outputs": []
    },
    {
      "cell_type": "code",
      "metadata": {
        "colab": {
          "base_uri": "https://localhost:8080/"
        },
        "id": "qflTKaEgjKAH",
        "outputId": "8eb58f65-7e59-4ca4-c1a2-bd32d4b03de2"
      },
      "source": [
        "WP.find('p') "
      ],
      "execution_count": 50,
      "outputs": [
        {
          "output_type": "execute_result",
          "data": {
            "text/plain": [
              "<p>Web Scraper</p>"
            ]
          },
          "metadata": {},
          "execution_count": 50
        }
      ]
    },
    {
      "cell_type": "code",
      "metadata": {
        "colab": {
          "base_uri": "https://localhost:8080/",
          "height": 34
        },
        "id": "YwQoNmcmjWYC",
        "outputId": "61abb8c7-9117-465a-9248-e6e0d24bded2"
      },
      "source": [
        "WP.find('p').getText()"
      ],
      "execution_count": 51,
      "outputs": [
        {
          "output_type": "execute_result",
          "data": {
            "application/vnd.google.colaboratory.intrinsic+json": {
              "type": "string"
            },
            "text/plain": [
              "'Web Scraper'"
            ]
          },
          "metadata": {},
          "execution_count": 51
        }
      ]
    },
    {
      "cell_type": "code",
      "metadata": {
        "colab": {
          "base_uri": "https://localhost:8080/"
        },
        "id": "iW_NnBT3jZLG",
        "outputId": "f63bad8d-f1b0-4e4b-b5f2-f24f7e226805"
      },
      "source": [
        "WP.find_all('p') "
      ],
      "execution_count": 52,
      "outputs": [
        {
          "output_type": "execute_result",
          "data": {
            "text/plain": [
              "[<p>Web Scraper</p>,\n",
              " <p>Cloud Scraper</p>,\n",
              " <p>Pricing</p>,\n",
              " <p>Learn</p>,\n",
              " <p class=\"date\" itemprop=\"datePublished\">May 12, 2020</p>,\n",
              " <p class=\"category\" itemprop=\"keywords\">Big Data, Data, Global pandemic</p>,\n",
              " <p>Enormous amounts of data that traditional data-processing application software is not capable of dealing with, that is used for analyzing to reveal trends, patterns, associations of especially human behavior and interactions. The subject of Big Data and the usage has increased highly over recent years. With the immense development of technology and the large sets of data that are processed every day, the questions of how to take advantage of it is on everyone’s mind, regardless of the industry.</p>,\n",
              " <p>It is no surprise that the health industry is one of the most important sectors to which Big Data is crucial nowadays. Big Data might not be the direct gateway for discovering a cure for a virus recipe; however, the great power of big data analytics allows scientists to decode entire DNA strings in minutes which will enhance the process of finding new cures and to better comprehend and predict disease patterns. Also, such technologies and gadgets, apps that promote healthier living have become a sphere of many technology companies, such as Apple, helping health organizations and scientists to compile data for health studies and researches. Such mobile applications as Apple’s health app “ResearchKit” turns the users’ phone into a biomedical research device, providing huge amounts of iPhone user data for researchers to conduct different studies and research on human behavior of different health aspects. Such powerful combos and their constant development have and continue to change industries. It might be that in the future clinical trials would not be limited by small sample sizes but could potentially include everyone!</p>,\n",
              " <p>One of the biggest human interest bonding industries is sports. Big Data analytics allows companies to create technology that enhances player health conditions, strength, and caution of injuries. For example, the NFL has developed their own platform of applications that facilitate all 32 teams of creating the finest decisions based on everything, starting from the conditions of the grass of the fields, to the weather conditions. Also, thoroughly creating statistical data about individual player performance while in university. Such Big Data is used simply in the pursuance of better game strategies and as well for reducing player injuries. All for the spirit of sports and entertainment! </p>,\n",
              " <p>Big Data has become essential for overcoming the COVID-19 pandemic. Statistics that update everyone in near real-time of worldwide cases is an excellent example of how Big Data is used. In such times it is vital that people bond and embrace togetherness whilst self-isolating and keeping a 2-meter distance. With the technology available nowadays, it has been able to tell about how and where the virus is spreading; therefore, easing ways of containing it and alerting nations. Creatively harnessing the power of Big Data of using temperature detection from smart thermometers for COVID-19 hot spot detection, or cellphone location data aggregation for pointing to the areas of the parts where people are staying home. It is hard to imagine a world of such times without the ability to use Big Data, but it, without any doubt, plays a massive role in helping to fight the pandemic.</p>,\n",
              " <p>These are only some aspects of Big Data usage, there are many more to explore and find information on. However, it is no lie that technologies and the usage of Big Data is developing and shaping the digital as well as the real-world in many ways. </p>,\n",
              " <p><br/></p>,\n",
              " <p><br/></p>,\n",
              " <p><br/></p>,\n",
              " <p><br/></p>,\n",
              " <p>Products</p>,\n",
              " <p>Company</p>,\n",
              " <p>Resources</p>,\n",
              " <p>CONTACT US</p>,\n",
              " <p class=\"copyright\">Copyright © 2021\n",
              " \t\t\t\t\t<a href=\"#\">Web Scraper</a> | All rights\n",
              " \t\t\t\t\treserved | Made by zoom59</p>]"
            ]
          },
          "metadata": {},
          "execution_count": 52
        }
      ]
    },
    {
      "cell_type": "code",
      "metadata": {
        "colab": {
          "base_uri": "https://localhost:8080/"
        },
        "id": "ApHloso3jc6j",
        "outputId": "62261b1d-fa5e-4734-e251-b04b833a00de"
      },
      "source": [
        "Full_Text = [] \n",
        "for paragraf in WP.find_all('p'): \n",
        "    Full_Text.append(paragraf.getText()) \n",
        "\n",
        "Full_Text "
      ],
      "execution_count": 53,
      "outputs": [
        {
          "output_type": "execute_result",
          "data": {
            "text/plain": [
              "['Web Scraper',\n",
              " 'Cloud Scraper',\n",
              " 'Pricing',\n",
              " 'Learn',\n",
              " 'May 12, 2020',\n",
              " 'Big Data, Data, Global pandemic',\n",
              " 'Enormous amounts of data that traditional data-processing application software is not capable of dealing with, that is used for analyzing to reveal trends, patterns, associations of especially human behavior and interactions. The subject of Big Data and the usage has increased highly over recent years. With the immense development of technology and the large sets of data that are processed every day, the questions of how to take advantage of it is on everyone’s mind, regardless of the industry.',\n",
              " 'It is no surprise that the health industry is one of the most important sectors to which Big Data is crucial nowadays. Big Data might not be the direct gateway for discovering a cure for a virus recipe; however, the great power of big data analytics allows scientists to decode entire DNA strings in minutes which will enhance the process of finding new cures and to better comprehend and predict disease patterns. Also, such technologies and gadgets, apps that promote healthier living have become a sphere of many technology companies, such as Apple, helping health organizations and scientists to compile data for health studies and researches. Such mobile applications as Apple’s health app “ResearchKit” turns the users’ phone into a biomedical research device, providing huge amounts of iPhone user data for researchers to conduct different studies and research on human behavior of different health aspects. Such powerful combos and their constant development have and continue to change industries. It might be that in the future clinical trials would not be limited by small sample sizes but could potentially include everyone!',\n",
              " 'One of the biggest human interest bonding industries is sports. Big Data analytics allows companies to create technology that enhances player health conditions, strength, and caution of injuries. For example, the NFL has developed their own platform of applications that facilitate all 32 teams of creating the finest decisions based on everything, starting from the conditions of the grass of the fields, to the weather conditions. Also, thoroughly creating statistical data about individual player performance while in university. Such Big Data is used simply in the pursuance of better game strategies and as well for reducing player injuries. All for the spirit of sports and entertainment!\\xa0',\n",
              " 'Big Data has become essential for overcoming the COVID-19 pandemic. Statistics that update everyone in near real-time of worldwide cases is an excellent example of how Big Data is used. In such times it is vital that people bond and embrace togetherness whilst self-isolating and keeping a 2-meter distance. With the technology available nowadays, it has been able to tell about how and where the virus is spreading; therefore, easing ways of containing it and alerting nations. Creatively harnessing the power of Big Data of using temperature detection from smart thermometers for COVID-19 hot spot detection, or cellphone location data aggregation for pointing to the areas of the parts where people are staying home. It is hard to imagine a world of such times without the ability to use Big Data, but it, without any doubt, plays a massive role in helping to fight the pandemic.',\n",
              " 'These are only some aspects of Big Data usage, there are many more to explore and find information on. However, it is no lie that technologies and the usage of Big Data is developing and shaping the digital as well as the real-world in many ways.\\xa0',\n",
              " '',\n",
              " '',\n",
              " '',\n",
              " '',\n",
              " 'Products',\n",
              " 'Company',\n",
              " 'Resources',\n",
              " 'CONTACT US',\n",
              " 'Copyright © 2021\\n\\t\\t\\t\\t\\tWeb Scraper | All rights\\n\\t\\t\\t\\t\\treserved | Made by zoom59']"
            ]
          },
          "metadata": {},
          "execution_count": 53
        }
      ]
    },
    {
      "cell_type": "code",
      "metadata": {
        "colab": {
          "base_uri": "https://localhost:8080/",
          "height": 190
        },
        "id": "RgFMQ0YJjgL6",
        "outputId": "de9c11ac-0db9-4d0c-b5b6-035c9328030e"
      },
      "source": [
        "# Menggabungkan semua line\n",
        "Full_Text = ' '.join(Full_Text) \n",
        "Full_Text "
      ],
      "execution_count": 54,
      "outputs": [
        {
          "output_type": "execute_result",
          "data": {
            "application/vnd.google.colaboratory.intrinsic+json": {
              "type": "string"
            },
            "text/plain": [
              "'Web Scraper Cloud Scraper Pricing Learn May 12, 2020 Big Data, Data, Global pandemic Enormous amounts of data that traditional data-processing application software is not capable of dealing with, that is used for analyzing to reveal trends, patterns, associations of especially human behavior and interactions. The subject of Big Data and the usage has increased highly over recent years. With the immense development of technology and the large sets of data that are processed every day, the questions of how to take advantage of it is on everyone’s mind, regardless of the industry. It is no surprise that the health industry is one of the most important sectors to which Big Data is crucial nowadays. Big Data might not be the direct gateway for discovering a cure for a virus recipe; however, the great power of big data analytics allows scientists to decode entire DNA strings in minutes which will enhance the process of finding new cures and to better comprehend and predict disease patterns. Also, such technologies and gadgets, apps that promote healthier living have become a sphere of many technology companies, such as Apple, helping health organizations and scientists to compile data for health studies and researches. Such mobile applications as Apple’s health app “ResearchKit” turns the users’ phone into a biomedical research device, providing huge amounts of iPhone user data for researchers to conduct different studies and research on human behavior of different health aspects. Such powerful combos and their constant development have and continue to change industries. It might be that in the future clinical trials would not be limited by small sample sizes but could potentially include everyone! One of the biggest human interest bonding industries is sports. Big Data analytics allows companies to create technology that enhances player health conditions, strength, and caution of injuries. For example, the NFL has developed their own platform of applications that facilitate all 32 teams of creating the finest decisions based on everything, starting from the conditions of the grass of the fields, to the weather conditions. Also, thoroughly creating statistical data about individual player performance while in university. Such Big Data is used simply in the pursuance of better game strategies and as well for reducing player injuries. All for the spirit of sports and entertainment!\\xa0 Big Data has become essential for overcoming the COVID-19 pandemic. Statistics that update everyone in near real-time of worldwide cases is an excellent example of how Big Data is used. In such times it is vital that people bond and embrace togetherness whilst self-isolating and keeping a 2-meter distance. With the technology available nowadays, it has been able to tell about how and where the virus is spreading; therefore, easing ways of containing it and alerting nations. Creatively harnessing the power of Big Data of using temperature detection from smart thermometers for COVID-19 hot spot detection, or cellphone location data aggregation for pointing to the areas of the parts where people are staying home. It is hard to imagine a world of such times without the ability to use Big Data, but it, without any doubt, plays a massive role in helping to fight the pandemic. These are only some aspects of Big Data usage, there are many more to explore and find information on. However, it is no lie that technologies and the usage of Big Data is developing and shaping the digital as well as the real-world in many ways.\\xa0     Products Company Resources CONTACT US Copyright © 2021\\n\\t\\t\\t\\t\\tWeb Scraper | All rights\\n\\t\\t\\t\\t\\treserved | Made by zoom59'"
            ]
          },
          "metadata": {},
          "execution_count": 54
        }
      ]
    },
    {
      "cell_type": "code",
      "metadata": {
        "id": "aYfmBNBojj9k"
      },
      "source": [
        "text = Full_Text "
      ],
      "execution_count": 55,
      "outputs": []
    },
    {
      "cell_type": "code",
      "metadata": {
        "colab": {
          "base_uri": "https://localhost:8080/",
          "height": 190
        },
        "id": "TPpBwQqJjk1I",
        "outputId": "fcf42dbe-9734-46a1-8015-0408ec721f90"
      },
      "source": [
        "# Membuat Text menjadi Lowercase\n",
        "text = text.lower() \n",
        "text "
      ],
      "execution_count": 56,
      "outputs": [
        {
          "output_type": "execute_result",
          "data": {
            "application/vnd.google.colaboratory.intrinsic+json": {
              "type": "string"
            },
            "text/plain": [
              "'web scraper cloud scraper pricing learn may 12, 2020 big data, data, global pandemic enormous amounts of data that traditional data-processing application software is not capable of dealing with, that is used for analyzing to reveal trends, patterns, associations of especially human behavior and interactions. the subject of big data and the usage has increased highly over recent years. with the immense development of technology and the large sets of data that are processed every day, the questions of how to take advantage of it is on everyone’s mind, regardless of the industry. it is no surprise that the health industry is one of the most important sectors to which big data is crucial nowadays. big data might not be the direct gateway for discovering a cure for a virus recipe; however, the great power of big data analytics allows scientists to decode entire dna strings in minutes which will enhance the process of finding new cures and to better comprehend and predict disease patterns. also, such technologies and gadgets, apps that promote healthier living have become a sphere of many technology companies, such as apple, helping health organizations and scientists to compile data for health studies and researches. such mobile applications as apple’s health app “researchkit” turns the users’ phone into a biomedical research device, providing huge amounts of iphone user data for researchers to conduct different studies and research on human behavior of different health aspects. such powerful combos and their constant development have and continue to change industries. it might be that in the future clinical trials would not be limited by small sample sizes but could potentially include everyone! one of the biggest human interest bonding industries is sports. big data analytics allows companies to create technology that enhances player health conditions, strength, and caution of injuries. for example, the nfl has developed their own platform of applications that facilitate all 32 teams of creating the finest decisions based on everything, starting from the conditions of the grass of the fields, to the weather conditions. also, thoroughly creating statistical data about individual player performance while in university. such big data is used simply in the pursuance of better game strategies and as well for reducing player injuries. all for the spirit of sports and entertainment!\\xa0 big data has become essential for overcoming the covid-19 pandemic. statistics that update everyone in near real-time of worldwide cases is an excellent example of how big data is used. in such times it is vital that people bond and embrace togetherness whilst self-isolating and keeping a 2-meter distance. with the technology available nowadays, it has been able to tell about how and where the virus is spreading; therefore, easing ways of containing it and alerting nations. creatively harnessing the power of big data of using temperature detection from smart thermometers for covid-19 hot spot detection, or cellphone location data aggregation for pointing to the areas of the parts where people are staying home. it is hard to imagine a world of such times without the ability to use big data, but it, without any doubt, plays a massive role in helping to fight the pandemic. these are only some aspects of big data usage, there are many more to explore and find information on. however, it is no lie that technologies and the usage of big data is developing and shaping the digital as well as the real-world in many ways.\\xa0     products company resources contact us copyright © 2021\\n\\t\\t\\t\\t\\tweb scraper | all rights\\n\\t\\t\\t\\t\\treserved | made by zoom59'"
            ]
          },
          "metadata": {},
          "execution_count": 56
        }
      ]
    },
    {
      "cell_type": "code",
      "metadata": {
        "colab": {
          "base_uri": "https://localhost:8080/",
          "height": 190
        },
        "id": "nr0uBAa5jrfd",
        "outputId": "f2a3a5c4-81f8-49f5-e1d5-164a342e89cf"
      },
      "source": [
        "# Menghilangkan Simbol atau Karakter khusus pada text\n",
        "text = re.sub(r'[-()\"/\\-@;:<>{}`+=~|.!?,]','', text) \n",
        "text "
      ],
      "execution_count": 57,
      "outputs": [
        {
          "output_type": "execute_result",
          "data": {
            "application/vnd.google.colaboratory.intrinsic+json": {
              "type": "string"
            },
            "text/plain": [
              "'web scraper cloud scraper pricing learn may 12 2020 big data data global pandemic enormous amounts of data that traditional dataprocessing application software is not capable of dealing with that is used for analyzing to reveal trends patterns associations of especially human behavior and interactions the subject of big data and the usage has increased highly over recent years with the immense development of technology and the large sets of data that are processed every day the questions of how to take advantage of it is on everyone’s mind regardless of the industry it is no surprise that the health industry is one of the most important sectors to which big data is crucial nowadays big data might not be the direct gateway for discovering a cure for a virus recipe however the great power of big data analytics allows scientists to decode entire dna strings in minutes which will enhance the process of finding new cures and to better comprehend and predict disease patterns also such technologies and gadgets apps that promote healthier living have become a sphere of many technology companies such as apple helping health organizations and scientists to compile data for health studies and researches such mobile applications as apple’s health app “researchkit” turns the users’ phone into a biomedical research device providing huge amounts of iphone user data for researchers to conduct different studies and research on human behavior of different health aspects such powerful combos and their constant development have and continue to change industries it might be that in the future clinical trials would not be limited by small sample sizes but could potentially include everyone one of the biggest human interest bonding industries is sports big data analytics allows companies to create technology that enhances player health conditions strength and caution of injuries for example the nfl has developed their own platform of applications that facilitate all 32 teams of creating the finest decisions based on everything starting from the conditions of the grass of the fields to the weather conditions also thoroughly creating statistical data about individual player performance while in university such big data is used simply in the pursuance of better game strategies and as well for reducing player injuries all for the spirit of sports and entertainment\\xa0 big data has become essential for overcoming the covid19 pandemic statistics that update everyone in near realtime of worldwide cases is an excellent example of how big data is used in such times it is vital that people bond and embrace togetherness whilst selfisolating and keeping a 2meter distance with the technology available nowadays it has been able to tell about how and where the virus is spreading therefore easing ways of containing it and alerting nations creatively harnessing the power of big data of using temperature detection from smart thermometers for covid19 hot spot detection or cellphone location data aggregation for pointing to the areas of the parts where people are staying home it is hard to imagine a world of such times without the ability to use big data but it without any doubt plays a massive role in helping to fight the pandemic these are only some aspects of big data usage there are many more to explore and find information on however it is no lie that technologies and the usage of big data is developing and shaping the digital as well as the realworld in many ways\\xa0     products company resources contact us copyright © 2021\\n\\t\\t\\t\\t\\tweb scraper  all rights\\n\\t\\t\\t\\t\\treserved  made by zoom59'"
            ]
          },
          "metadata": {},
          "execution_count": 57
        }
      ]
    },
    {
      "cell_type": "code",
      "metadata": {
        "id": "LjDKh4W9kIg8"
      },
      "source": [
        "# NLTK, library NLP di bahasa pemrograman python\n",
        "import nltk\n",
        "\n",
        "# Regex (re), library untuk mengenali dan memanipulasi pola text\n",
        "import re\n",
        "\n",
        "from nltk.corpus import stopwords\n",
        "from nltk.stem import SnowballStemmer\n",
        "from nltk.stem import PorterStemmer\n",
        "from nltk.stem import LancasterStemmer\n",
        "from nltk.stem import WordNetLemmatizer\n",
        "from nltk import word_tokenize\n",
        "import requests"
      ],
      "execution_count": 58,
      "outputs": []
    },
    {
      "cell_type": "code",
      "metadata": {
        "colab": {
          "base_uri": "https://localhost:8080/"
        },
        "id": "A9hvz2DDkKaX",
        "outputId": "f994f34a-bbb8-48c5-a9c3-236f05157b62"
      },
      "source": [
        "nltk.download('punkt')\n",
        "nltk.download('stopwords')\n",
        "nltk.download('wordnet')"
      ],
      "execution_count": 59,
      "outputs": [
        {
          "output_type": "stream",
          "name": "stdout",
          "text": [
            "[nltk_data] Downloading package punkt to /root/nltk_data...\n",
            "[nltk_data]   Package punkt is already up-to-date!\n",
            "[nltk_data] Downloading package stopwords to /root/nltk_data...\n",
            "[nltk_data]   Package stopwords is already up-to-date!\n",
            "[nltk_data] Downloading package wordnet to /root/nltk_data...\n",
            "[nltk_data]   Package wordnet is already up-to-date!\n"
          ]
        },
        {
          "output_type": "execute_result",
          "data": {
            "text/plain": [
              "True"
            ]
          },
          "metadata": {},
          "execution_count": 59
        }
      ]
    },
    {
      "cell_type": "code",
      "metadata": {
        "colab": {
          "base_uri": "https://localhost:8080/"
        },
        "id": "u_f2cco0kMXy",
        "outputId": "82b7b106-8f4a-44f7-c60b-946b6ae1bfd2"
      },
      "source": [
        "# Mengubah teks menjadi token (Tokenization)\n",
        "token = word_tokenize(text) \n",
        "print(token)"
      ],
      "execution_count": 60,
      "outputs": [
        {
          "output_type": "stream",
          "name": "stdout",
          "text": [
            "['web', 'scraper', 'cloud', 'scraper', 'pricing', 'learn', 'may', '12', '2020', 'big', 'data', 'data', 'global', 'pandemic', 'enormous', 'amounts', 'of', 'data', 'that', 'traditional', 'dataprocessing', 'application', 'software', 'is', 'not', 'capable', 'of', 'dealing', 'with', 'that', 'is', 'used', 'for', 'analyzing', 'to', 'reveal', 'trends', 'patterns', 'associations', 'of', 'especially', 'human', 'behavior', 'and', 'interactions', 'the', 'subject', 'of', 'big', 'data', 'and', 'the', 'usage', 'has', 'increased', 'highly', 'over', 'recent', 'years', 'with', 'the', 'immense', 'development', 'of', 'technology', 'and', 'the', 'large', 'sets', 'of', 'data', 'that', 'are', 'processed', 'every', 'day', 'the', 'questions', 'of', 'how', 'to', 'take', 'advantage', 'of', 'it', 'is', 'on', 'everyone', '’', 's', 'mind', 'regardless', 'of', 'the', 'industry', 'it', 'is', 'no', 'surprise', 'that', 'the', 'health', 'industry', 'is', 'one', 'of', 'the', 'most', 'important', 'sectors', 'to', 'which', 'big', 'data', 'is', 'crucial', 'nowadays', 'big', 'data', 'might', 'not', 'be', 'the', 'direct', 'gateway', 'for', 'discovering', 'a', 'cure', 'for', 'a', 'virus', 'recipe', 'however', 'the', 'great', 'power', 'of', 'big', 'data', 'analytics', 'allows', 'scientists', 'to', 'decode', 'entire', 'dna', 'strings', 'in', 'minutes', 'which', 'will', 'enhance', 'the', 'process', 'of', 'finding', 'new', 'cures', 'and', 'to', 'better', 'comprehend', 'and', 'predict', 'disease', 'patterns', 'also', 'such', 'technologies', 'and', 'gadgets', 'apps', 'that', 'promote', 'healthier', 'living', 'have', 'become', 'a', 'sphere', 'of', 'many', 'technology', 'companies', 'such', 'as', 'apple', 'helping', 'health', 'organizations', 'and', 'scientists', 'to', 'compile', 'data', 'for', 'health', 'studies', 'and', 'researches', 'such', 'mobile', 'applications', 'as', 'apple', '’', 's', 'health', 'app', '“', 'researchkit', '”', 'turns', 'the', 'users', '’', 'phone', 'into', 'a', 'biomedical', 'research', 'device', 'providing', 'huge', 'amounts', 'of', 'iphone', 'user', 'data', 'for', 'researchers', 'to', 'conduct', 'different', 'studies', 'and', 'research', 'on', 'human', 'behavior', 'of', 'different', 'health', 'aspects', 'such', 'powerful', 'combos', 'and', 'their', 'constant', 'development', 'have', 'and', 'continue', 'to', 'change', 'industries', 'it', 'might', 'be', 'that', 'in', 'the', 'future', 'clinical', 'trials', 'would', 'not', 'be', 'limited', 'by', 'small', 'sample', 'sizes', 'but', 'could', 'potentially', 'include', 'everyone', 'one', 'of', 'the', 'biggest', 'human', 'interest', 'bonding', 'industries', 'is', 'sports', 'big', 'data', 'analytics', 'allows', 'companies', 'to', 'create', 'technology', 'that', 'enhances', 'player', 'health', 'conditions', 'strength', 'and', 'caution', 'of', 'injuries', 'for', 'example', 'the', 'nfl', 'has', 'developed', 'their', 'own', 'platform', 'of', 'applications', 'that', 'facilitate', 'all', '32', 'teams', 'of', 'creating', 'the', 'finest', 'decisions', 'based', 'on', 'everything', 'starting', 'from', 'the', 'conditions', 'of', 'the', 'grass', 'of', 'the', 'fields', 'to', 'the', 'weather', 'conditions', 'also', 'thoroughly', 'creating', 'statistical', 'data', 'about', 'individual', 'player', 'performance', 'while', 'in', 'university', 'such', 'big', 'data', 'is', 'used', 'simply', 'in', 'the', 'pursuance', 'of', 'better', 'game', 'strategies', 'and', 'as', 'well', 'for', 'reducing', 'player', 'injuries', 'all', 'for', 'the', 'spirit', 'of', 'sports', 'and', 'entertainment', 'big', 'data', 'has', 'become', 'essential', 'for', 'overcoming', 'the', 'covid19', 'pandemic', 'statistics', 'that', 'update', 'everyone', 'in', 'near', 'realtime', 'of', 'worldwide', 'cases', 'is', 'an', 'excellent', 'example', 'of', 'how', 'big', 'data', 'is', 'used', 'in', 'such', 'times', 'it', 'is', 'vital', 'that', 'people', 'bond', 'and', 'embrace', 'togetherness', 'whilst', 'selfisolating', 'and', 'keeping', 'a', '2meter', 'distance', 'with', 'the', 'technology', 'available', 'nowadays', 'it', 'has', 'been', 'able', 'to', 'tell', 'about', 'how', 'and', 'where', 'the', 'virus', 'is', 'spreading', 'therefore', 'easing', 'ways', 'of', 'containing', 'it', 'and', 'alerting', 'nations', 'creatively', 'harnessing', 'the', 'power', 'of', 'big', 'data', 'of', 'using', 'temperature', 'detection', 'from', 'smart', 'thermometers', 'for', 'covid19', 'hot', 'spot', 'detection', 'or', 'cellphone', 'location', 'data', 'aggregation', 'for', 'pointing', 'to', 'the', 'areas', 'of', 'the', 'parts', 'where', 'people', 'are', 'staying', 'home', 'it', 'is', 'hard', 'to', 'imagine', 'a', 'world', 'of', 'such', 'times', 'without', 'the', 'ability', 'to', 'use', 'big', 'data', 'but', 'it', 'without', 'any', 'doubt', 'plays', 'a', 'massive', 'role', 'in', 'helping', 'to', 'fight', 'the', 'pandemic', 'these', 'are', 'only', 'some', 'aspects', 'of', 'big', 'data', 'usage', 'there', 'are', 'many', 'more', 'to', 'explore', 'and', 'find', 'information', 'on', 'however', 'it', 'is', 'no', 'lie', 'that', 'technologies', 'and', 'the', 'usage', 'of', 'big', 'data', 'is', 'developing', 'and', 'shaping', 'the', 'digital', 'as', 'well', 'as', 'the', 'realworld', 'in', 'many', 'ways', 'products', 'company', 'resources', 'contact', 'us', 'copyright', '©', '2021', 'web', 'scraper', 'all', 'rights', 'reserved', 'made', 'by', 'zoom59']\n"
          ]
        }
      ]
    },
    {
      "cell_type": "code",
      "metadata": {
        "colab": {
          "base_uri": "https://localhost:8080/"
        },
        "id": "9FaUXM-AkOzY",
        "outputId": "8fa7a20e-5ebe-4c94-94a8-e9c23bba9a24"
      },
      "source": [
        "# Membuat Bag of Words (sebelum preprocessing)\n",
        "frekuensi_kata = {} # dictionary\n",
        "for kata in token:\n",
        "  if kata not in frekuensi_kata:\n",
        "    frekuensi_kata[kata] = 1\n",
        "  else:\n",
        "    frekuensi_kata[kata] += 1\n",
        "\n",
        "print(frekuensi_kata)"
      ],
      "execution_count": 61,
      "outputs": [
        {
          "output_type": "stream",
          "name": "stdout",
          "text": [
            "{'web': 2, 'scraper': 3, 'cloud': 1, 'pricing': 1, 'learn': 1, 'may': 1, '12': 1, '2020': 1, 'big': 13, 'data': 20, 'global': 1, 'pandemic': 3, 'enormous': 1, 'amounts': 2, 'of': 32, 'that': 11, 'traditional': 1, 'dataprocessing': 1, 'application': 1, 'software': 1, 'is': 15, 'not': 3, 'capable': 1, 'dealing': 1, 'with': 3, 'used': 3, 'for': 11, 'analyzing': 1, 'to': 16, 'reveal': 1, 'trends': 1, 'patterns': 2, 'associations': 1, 'especially': 1, 'human': 3, 'behavior': 2, 'and': 21, 'interactions': 1, 'the': 33, 'subject': 1, 'usage': 3, 'has': 4, 'increased': 1, 'highly': 1, 'over': 1, 'recent': 1, 'years': 1, 'immense': 1, 'development': 2, 'technology': 4, 'large': 1, 'sets': 1, 'are': 4, 'processed': 1, 'every': 1, 'day': 1, 'questions': 1, 'how': 3, 'take': 1, 'advantage': 1, 'it': 9, 'on': 4, 'everyone': 3, '’': 3, 's': 2, 'mind': 1, 'regardless': 1, 'industry': 2, 'no': 2, 'surprise': 1, 'health': 6, 'one': 2, 'most': 1, 'important': 1, 'sectors': 1, 'which': 2, 'crucial': 1, 'nowadays': 2, 'might': 2, 'be': 3, 'direct': 1, 'gateway': 1, 'discovering': 1, 'a': 7, 'cure': 1, 'virus': 2, 'recipe': 1, 'however': 2, 'great': 1, 'power': 2, 'analytics': 2, 'allows': 2, 'scientists': 2, 'decode': 1, 'entire': 1, 'dna': 1, 'strings': 1, 'in': 8, 'minutes': 1, 'will': 1, 'enhance': 1, 'process': 1, 'finding': 1, 'new': 1, 'cures': 1, 'better': 2, 'comprehend': 1, 'predict': 1, 'disease': 1, 'also': 2, 'such': 7, 'technologies': 2, 'gadgets': 1, 'apps': 1, 'promote': 1, 'healthier': 1, 'living': 1, 'have': 2, 'become': 2, 'sphere': 1, 'many': 3, 'companies': 2, 'as': 5, 'apple': 2, 'helping': 2, 'organizations': 1, 'compile': 1, 'studies': 2, 'researches': 1, 'mobile': 1, 'applications': 2, 'app': 1, '“': 1, 'researchkit': 1, '”': 1, 'turns': 1, 'users': 1, 'phone': 1, 'into': 1, 'biomedical': 1, 'research': 2, 'device': 1, 'providing': 1, 'huge': 1, 'iphone': 1, 'user': 1, 'researchers': 1, 'conduct': 1, 'different': 2, 'aspects': 2, 'powerful': 1, 'combos': 1, 'their': 2, 'constant': 1, 'continue': 1, 'change': 1, 'industries': 2, 'future': 1, 'clinical': 1, 'trials': 1, 'would': 1, 'limited': 1, 'by': 2, 'small': 1, 'sample': 1, 'sizes': 1, 'but': 2, 'could': 1, 'potentially': 1, 'include': 1, 'biggest': 1, 'interest': 1, 'bonding': 1, 'sports': 2, 'create': 1, 'enhances': 1, 'player': 3, 'conditions': 3, 'strength': 1, 'caution': 1, 'injuries': 2, 'example': 2, 'nfl': 1, 'developed': 1, 'own': 1, 'platform': 1, 'facilitate': 1, 'all': 3, '32': 1, 'teams': 1, 'creating': 2, 'finest': 1, 'decisions': 1, 'based': 1, 'everything': 1, 'starting': 1, 'from': 2, 'grass': 1, 'fields': 1, 'weather': 1, 'thoroughly': 1, 'statistical': 1, 'about': 2, 'individual': 1, 'performance': 1, 'while': 1, 'university': 1, 'simply': 1, 'pursuance': 1, 'game': 1, 'strategies': 1, 'well': 2, 'reducing': 1, 'spirit': 1, 'entertainment': 1, 'essential': 1, 'overcoming': 1, 'covid19': 2, 'statistics': 1, 'update': 1, 'near': 1, 'realtime': 1, 'worldwide': 1, 'cases': 1, 'an': 1, 'excellent': 1, 'times': 2, 'vital': 1, 'people': 2, 'bond': 1, 'embrace': 1, 'togetherness': 1, 'whilst': 1, 'selfisolating': 1, 'keeping': 1, '2meter': 1, 'distance': 1, 'available': 1, 'been': 1, 'able': 1, 'tell': 1, 'where': 2, 'spreading': 1, 'therefore': 1, 'easing': 1, 'ways': 2, 'containing': 1, 'alerting': 1, 'nations': 1, 'creatively': 1, 'harnessing': 1, 'using': 1, 'temperature': 1, 'detection': 2, 'smart': 1, 'thermometers': 1, 'hot': 1, 'spot': 1, 'or': 1, 'cellphone': 1, 'location': 1, 'aggregation': 1, 'pointing': 1, 'areas': 1, 'parts': 1, 'staying': 1, 'home': 1, 'hard': 1, 'imagine': 1, 'world': 1, 'without': 2, 'ability': 1, 'use': 1, 'any': 1, 'doubt': 1, 'plays': 1, 'massive': 1, 'role': 1, 'fight': 1, 'these': 1, 'only': 1, 'some': 1, 'there': 1, 'more': 1, 'explore': 1, 'find': 1, 'information': 1, 'lie': 1, 'developing': 1, 'shaping': 1, 'digital': 1, 'realworld': 1, 'products': 1, 'company': 1, 'resources': 1, 'contact': 1, 'us': 1, 'copyright': 1, '©': 1, '2021': 1, 'rights': 1, 'reserved': 1, 'made': 1, 'zoom59': 1}\n"
          ]
        }
      ]
    },
    {
      "cell_type": "code",
      "metadata": {
        "colab": {
          "base_uri": "https://localhost:8080/"
        },
        "id": "35LjqfNBkS6A",
        "outputId": "fad1db9d-c3e5-46ef-e108-0dc7cc24b51a"
      },
      "source": [
        "# Cetak total kata unik (tanpa duplikat)\n",
        "len(frekuensi_kata)"
      ],
      "execution_count": 62,
      "outputs": [
        {
          "output_type": "execute_result",
          "data": {
            "text/plain": [
              "304"
            ]
          },
          "metadata": {},
          "execution_count": 62
        }
      ]
    },
    {
      "cell_type": "code",
      "metadata": {
        "colab": {
          "base_uri": "https://localhost:8080/"
        },
        "id": "cBhtgPwnkZHD",
        "outputId": "3ead9f61-8a1c-45f7-a5c2-58a695cc1e0c"
      },
      "source": [
        "# Stop Word\n",
        "stoplist = stopwords.words('english') \n",
        "print(stoplist) "
      ],
      "execution_count": 63,
      "outputs": [
        {
          "output_type": "stream",
          "name": "stdout",
          "text": [
            "['i', 'me', 'my', 'myself', 'we', 'our', 'ours', 'ourselves', 'you', \"you're\", \"you've\", \"you'll\", \"you'd\", 'your', 'yours', 'yourself', 'yourselves', 'he', 'him', 'his', 'himself', 'she', \"she's\", 'her', 'hers', 'herself', 'it', \"it's\", 'its', 'itself', 'they', 'them', 'their', 'theirs', 'themselves', 'what', 'which', 'who', 'whom', 'this', 'that', \"that'll\", 'these', 'those', 'am', 'is', 'are', 'was', 'were', 'be', 'been', 'being', 'have', 'has', 'had', 'having', 'do', 'does', 'did', 'doing', 'a', 'an', 'the', 'and', 'but', 'if', 'or', 'because', 'as', 'until', 'while', 'of', 'at', 'by', 'for', 'with', 'about', 'against', 'between', 'into', 'through', 'during', 'before', 'after', 'above', 'below', 'to', 'from', 'up', 'down', 'in', 'out', 'on', 'off', 'over', 'under', 'again', 'further', 'then', 'once', 'here', 'there', 'when', 'where', 'why', 'how', 'all', 'any', 'both', 'each', 'few', 'more', 'most', 'other', 'some', 'such', 'no', 'nor', 'not', 'only', 'own', 'same', 'so', 'than', 'too', 'very', 's', 't', 'can', 'will', 'just', 'don', \"don't\", 'should', \"should've\", 'now', 'd', 'll', 'm', 'o', 're', 've', 'y', 'ain', 'aren', \"aren't\", 'couldn', \"couldn't\", 'didn', \"didn't\", 'doesn', \"doesn't\", 'hadn', \"hadn't\", 'hasn', \"hasn't\", 'haven', \"haven't\", 'isn', \"isn't\", 'ma', 'mightn', \"mightn't\", 'mustn', \"mustn't\", 'needn', \"needn't\", 'shan', \"shan't\", 'shouldn', \"shouldn't\", 'wasn', \"wasn't\", 'weren', \"weren't\", 'won', \"won't\", 'wouldn', \"wouldn't\"]\n"
          ]
        }
      ]
    },
    {
      "cell_type": "code",
      "metadata": {
        "colab": {
          "base_uri": "https://localhost:8080/"
        },
        "id": "ddWTOBEikcdS",
        "outputId": "38c67653-4f78-47ec-ff20-14d14062f1a4"
      },
      "source": [
        "# Menghapus kata yang termasuk ke dalam stopwords bahasa inggris\n",
        "kata_unik = list(frekuensi_kata)\n",
        "for kata in kata_unik:\n",
        "  if kata in stoplist:\n",
        "    del frekuensi_kata[kata]\n",
        "\n",
        "# Update kata unik setelah penghapusan stopwords\n",
        "kata_unik"
      ],
      "execution_count": 64,
      "outputs": [
        {
          "output_type": "execute_result",
          "data": {
            "text/plain": [
              "['web',\n",
              " 'scraper',\n",
              " 'cloud',\n",
              " 'pricing',\n",
              " 'learn',\n",
              " 'may',\n",
              " '12',\n",
              " '2020',\n",
              " 'big',\n",
              " 'data',\n",
              " 'global',\n",
              " 'pandemic',\n",
              " 'enormous',\n",
              " 'amounts',\n",
              " 'of',\n",
              " 'that',\n",
              " 'traditional',\n",
              " 'dataprocessing',\n",
              " 'application',\n",
              " 'software',\n",
              " 'is',\n",
              " 'not',\n",
              " 'capable',\n",
              " 'dealing',\n",
              " 'with',\n",
              " 'used',\n",
              " 'for',\n",
              " 'analyzing',\n",
              " 'to',\n",
              " 'reveal',\n",
              " 'trends',\n",
              " 'patterns',\n",
              " 'associations',\n",
              " 'especially',\n",
              " 'human',\n",
              " 'behavior',\n",
              " 'and',\n",
              " 'interactions',\n",
              " 'the',\n",
              " 'subject',\n",
              " 'usage',\n",
              " 'has',\n",
              " 'increased',\n",
              " 'highly',\n",
              " 'over',\n",
              " 'recent',\n",
              " 'years',\n",
              " 'immense',\n",
              " 'development',\n",
              " 'technology',\n",
              " 'large',\n",
              " 'sets',\n",
              " 'are',\n",
              " 'processed',\n",
              " 'every',\n",
              " 'day',\n",
              " 'questions',\n",
              " 'how',\n",
              " 'take',\n",
              " 'advantage',\n",
              " 'it',\n",
              " 'on',\n",
              " 'everyone',\n",
              " '’',\n",
              " 's',\n",
              " 'mind',\n",
              " 'regardless',\n",
              " 'industry',\n",
              " 'no',\n",
              " 'surprise',\n",
              " 'health',\n",
              " 'one',\n",
              " 'most',\n",
              " 'important',\n",
              " 'sectors',\n",
              " 'which',\n",
              " 'crucial',\n",
              " 'nowadays',\n",
              " 'might',\n",
              " 'be',\n",
              " 'direct',\n",
              " 'gateway',\n",
              " 'discovering',\n",
              " 'a',\n",
              " 'cure',\n",
              " 'virus',\n",
              " 'recipe',\n",
              " 'however',\n",
              " 'great',\n",
              " 'power',\n",
              " 'analytics',\n",
              " 'allows',\n",
              " 'scientists',\n",
              " 'decode',\n",
              " 'entire',\n",
              " 'dna',\n",
              " 'strings',\n",
              " 'in',\n",
              " 'minutes',\n",
              " 'will',\n",
              " 'enhance',\n",
              " 'process',\n",
              " 'finding',\n",
              " 'new',\n",
              " 'cures',\n",
              " 'better',\n",
              " 'comprehend',\n",
              " 'predict',\n",
              " 'disease',\n",
              " 'also',\n",
              " 'such',\n",
              " 'technologies',\n",
              " 'gadgets',\n",
              " 'apps',\n",
              " 'promote',\n",
              " 'healthier',\n",
              " 'living',\n",
              " 'have',\n",
              " 'become',\n",
              " 'sphere',\n",
              " 'many',\n",
              " 'companies',\n",
              " 'as',\n",
              " 'apple',\n",
              " 'helping',\n",
              " 'organizations',\n",
              " 'compile',\n",
              " 'studies',\n",
              " 'researches',\n",
              " 'mobile',\n",
              " 'applications',\n",
              " 'app',\n",
              " '“',\n",
              " 'researchkit',\n",
              " '”',\n",
              " 'turns',\n",
              " 'users',\n",
              " 'phone',\n",
              " 'into',\n",
              " 'biomedical',\n",
              " 'research',\n",
              " 'device',\n",
              " 'providing',\n",
              " 'huge',\n",
              " 'iphone',\n",
              " 'user',\n",
              " 'researchers',\n",
              " 'conduct',\n",
              " 'different',\n",
              " 'aspects',\n",
              " 'powerful',\n",
              " 'combos',\n",
              " 'their',\n",
              " 'constant',\n",
              " 'continue',\n",
              " 'change',\n",
              " 'industries',\n",
              " 'future',\n",
              " 'clinical',\n",
              " 'trials',\n",
              " 'would',\n",
              " 'limited',\n",
              " 'by',\n",
              " 'small',\n",
              " 'sample',\n",
              " 'sizes',\n",
              " 'but',\n",
              " 'could',\n",
              " 'potentially',\n",
              " 'include',\n",
              " 'biggest',\n",
              " 'interest',\n",
              " 'bonding',\n",
              " 'sports',\n",
              " 'create',\n",
              " 'enhances',\n",
              " 'player',\n",
              " 'conditions',\n",
              " 'strength',\n",
              " 'caution',\n",
              " 'injuries',\n",
              " 'example',\n",
              " 'nfl',\n",
              " 'developed',\n",
              " 'own',\n",
              " 'platform',\n",
              " 'facilitate',\n",
              " 'all',\n",
              " '32',\n",
              " 'teams',\n",
              " 'creating',\n",
              " 'finest',\n",
              " 'decisions',\n",
              " 'based',\n",
              " 'everything',\n",
              " 'starting',\n",
              " 'from',\n",
              " 'grass',\n",
              " 'fields',\n",
              " 'weather',\n",
              " 'thoroughly',\n",
              " 'statistical',\n",
              " 'about',\n",
              " 'individual',\n",
              " 'performance',\n",
              " 'while',\n",
              " 'university',\n",
              " 'simply',\n",
              " 'pursuance',\n",
              " 'game',\n",
              " 'strategies',\n",
              " 'well',\n",
              " 'reducing',\n",
              " 'spirit',\n",
              " 'entertainment',\n",
              " 'essential',\n",
              " 'overcoming',\n",
              " 'covid19',\n",
              " 'statistics',\n",
              " 'update',\n",
              " 'near',\n",
              " 'realtime',\n",
              " 'worldwide',\n",
              " 'cases',\n",
              " 'an',\n",
              " 'excellent',\n",
              " 'times',\n",
              " 'vital',\n",
              " 'people',\n",
              " 'bond',\n",
              " 'embrace',\n",
              " 'togetherness',\n",
              " 'whilst',\n",
              " 'selfisolating',\n",
              " 'keeping',\n",
              " '2meter',\n",
              " 'distance',\n",
              " 'available',\n",
              " 'been',\n",
              " 'able',\n",
              " 'tell',\n",
              " 'where',\n",
              " 'spreading',\n",
              " 'therefore',\n",
              " 'easing',\n",
              " 'ways',\n",
              " 'containing',\n",
              " 'alerting',\n",
              " 'nations',\n",
              " 'creatively',\n",
              " 'harnessing',\n",
              " 'using',\n",
              " 'temperature',\n",
              " 'detection',\n",
              " 'smart',\n",
              " 'thermometers',\n",
              " 'hot',\n",
              " 'spot',\n",
              " 'or',\n",
              " 'cellphone',\n",
              " 'location',\n",
              " 'aggregation',\n",
              " 'pointing',\n",
              " 'areas',\n",
              " 'parts',\n",
              " 'staying',\n",
              " 'home',\n",
              " 'hard',\n",
              " 'imagine',\n",
              " 'world',\n",
              " 'without',\n",
              " 'ability',\n",
              " 'use',\n",
              " 'any',\n",
              " 'doubt',\n",
              " 'plays',\n",
              " 'massive',\n",
              " 'role',\n",
              " 'fight',\n",
              " 'these',\n",
              " 'only',\n",
              " 'some',\n",
              " 'there',\n",
              " 'more',\n",
              " 'explore',\n",
              " 'find',\n",
              " 'information',\n",
              " 'lie',\n",
              " 'developing',\n",
              " 'shaping',\n",
              " 'digital',\n",
              " 'realworld',\n",
              " 'products',\n",
              " 'company',\n",
              " 'resources',\n",
              " 'contact',\n",
              " 'us',\n",
              " 'copyright',\n",
              " '©',\n",
              " '2021',\n",
              " 'rights',\n",
              " 'reserved',\n",
              " 'made',\n",
              " 'zoom59']"
            ]
          },
          "metadata": {},
          "execution_count": 64
        }
      ]
    },
    {
      "cell_type": "code",
      "metadata": {
        "colab": {
          "base_uri": "https://localhost:8080/"
        },
        "id": "29gvMiwgkgz5",
        "outputId": "a421d9e7-8399-4c52-bc29-001503d4a8be"
      },
      "source": [
        "len(frekuensi_kata)"
      ],
      "execution_count": 65,
      "outputs": [
        {
          "output_type": "execute_result",
          "data": {
            "text/plain": [
              "259"
            ]
          },
          "metadata": {},
          "execution_count": 65
        }
      ]
    },
    {
      "cell_type": "markdown",
      "metadata": {
        "id": "ixOYIQMTki2W"
      },
      "source": [
        "# Stemming dan Lematization"
      ]
    },
    {
      "cell_type": "code",
      "metadata": {
        "id": "bkAuLmi5kkvf"
      },
      "source": [
        "lemmatizer = WordNetLemmatizer()"
      ],
      "execution_count": 66,
      "outputs": []
    },
    {
      "cell_type": "code",
      "metadata": {
        "colab": {
          "base_uri": "https://localhost:8080/"
        },
        "id": "vbPR-34uknFY",
        "outputId": "d2e04c51-4592-41a9-fbf5-68b443d2eff0"
      },
      "source": [
        "token_lemmatized = [lemmatizer.lemmatize(kata, pos='v') for kata in kata_unik]\n",
        "token_lemmatized = [lemmatizer.lemmatize(kata) for kata in token_lemmatized]\n",
        "\n",
        "frekuensi_kata_postprocessing = {}\n",
        "for kata in token_lemmatized:\n",
        "  if kata not in frekuensi_kata_postprocessing:\n",
        "    frekuensi_kata_postprocessing[kata] = 1\n",
        "  else:\n",
        "    frekuensi_kata_postprocessing[kata] += 1\n",
        "\n",
        "\n",
        "frekuensi_kata_postprocessing"
      ],
      "execution_count": 67,
      "outputs": [
        {
          "output_type": "execute_result",
          "data": {
            "text/plain": [
              "{'12': 1,\n",
              " '2020': 1,\n",
              " '2021': 1,\n",
              " '2meter': 1,\n",
              " '32': 1,\n",
              " 'a': 2,\n",
              " 'ability': 1,\n",
              " 'able': 1,\n",
              " 'about': 1,\n",
              " 'advantage': 1,\n",
              " 'aggregation': 1,\n",
              " 'alert': 1,\n",
              " 'all': 1,\n",
              " 'allow': 1,\n",
              " 'also': 1,\n",
              " 'amount': 1,\n",
              " 'an': 1,\n",
              " 'analytics': 1,\n",
              " 'analyze': 1,\n",
              " 'and': 1,\n",
              " 'any': 1,\n",
              " 'app': 1,\n",
              " 'apple': 1,\n",
              " 'application': 2,\n",
              " 'apps': 1,\n",
              " 'area': 1,\n",
              " 'aspect': 1,\n",
              " 'association': 1,\n",
              " 'available': 1,\n",
              " 'base': 1,\n",
              " 'be': 4,\n",
              " 'become': 1,\n",
              " 'behavior': 1,\n",
              " 'better': 1,\n",
              " 'big': 1,\n",
              " 'biggest': 1,\n",
              " 'biomedical': 1,\n",
              " 'bond': 2,\n",
              " 'but': 1,\n",
              " 'by': 1,\n",
              " 'capable': 1,\n",
              " 'case': 1,\n",
              " 'caution': 1,\n",
              " 'cellphone': 1,\n",
              " 'change': 1,\n",
              " 'clinical': 1,\n",
              " 'cloud': 1,\n",
              " 'combo': 1,\n",
              " 'company': 2,\n",
              " 'compile': 1,\n",
              " 'comprehend': 1,\n",
              " 'condition': 1,\n",
              " 'conduct': 1,\n",
              " 'constant': 1,\n",
              " 'contact': 1,\n",
              " 'contain': 1,\n",
              " 'continue': 1,\n",
              " 'copyright': 1,\n",
              " 'could': 1,\n",
              " 'covid19': 1,\n",
              " 'create': 2,\n",
              " 'creatively': 1,\n",
              " 'crucial': 1,\n",
              " 'cure': 2,\n",
              " 'data': 1,\n",
              " 'dataprocessing': 1,\n",
              " 'day': 1,\n",
              " 'deal': 1,\n",
              " 'decision': 1,\n",
              " 'decode': 1,\n",
              " 'detection': 1,\n",
              " 'develop': 2,\n",
              " 'development': 1,\n",
              " 'device': 1,\n",
              " 'different': 1,\n",
              " 'digital': 1,\n",
              " 'direct': 1,\n",
              " 'discover': 1,\n",
              " 'disease': 1,\n",
              " 'distance': 1,\n",
              " 'dna': 1,\n",
              " 'doubt': 1,\n",
              " 'ease': 1,\n",
              " 'embrace': 1,\n",
              " 'enhance': 2,\n",
              " 'enormous': 1,\n",
              " 'entertainment': 1,\n",
              " 'entire': 1,\n",
              " 'especially': 1,\n",
              " 'essential': 1,\n",
              " 'every': 1,\n",
              " 'everyone': 1,\n",
              " 'everything': 1,\n",
              " 'example': 1,\n",
              " 'excellent': 1,\n",
              " 'explore': 1,\n",
              " 'facilitate': 1,\n",
              " 'field': 1,\n",
              " 'fight': 1,\n",
              " 'find': 2,\n",
              " 'finest': 1,\n",
              " 'for': 1,\n",
              " 'from': 1,\n",
              " 'future': 1,\n",
              " 'gadget': 1,\n",
              " 'game': 1,\n",
              " 'gateway': 1,\n",
              " 'global': 1,\n",
              " 'grass': 1,\n",
              " 'great': 1,\n",
              " 'hard': 1,\n",
              " 'harness': 1,\n",
              " 'have': 2,\n",
              " 'health': 1,\n",
              " 'healthier': 1,\n",
              " 'help': 1,\n",
              " 'highly': 1,\n",
              " 'home': 1,\n",
              " 'hot': 1,\n",
              " 'how': 1,\n",
              " 'however': 1,\n",
              " 'huge': 1,\n",
              " 'human': 1,\n",
              " 'imagine': 1,\n",
              " 'immense': 1,\n",
              " 'important': 1,\n",
              " 'in': 1,\n",
              " 'include': 1,\n",
              " 'increase': 1,\n",
              " 'individual': 1,\n",
              " 'industry': 2,\n",
              " 'information': 1,\n",
              " 'injury': 1,\n",
              " 'interaction': 1,\n",
              " 'interest': 1,\n",
              " 'into': 1,\n",
              " 'iphone': 1,\n",
              " 'it': 1,\n",
              " 'keep': 1,\n",
              " 'large': 1,\n",
              " 'learn': 1,\n",
              " 'lie': 1,\n",
              " 'limit': 1,\n",
              " 'live': 1,\n",
              " 'location': 1,\n",
              " 'make': 1,\n",
              " 'many': 1,\n",
              " 'massive': 1,\n",
              " 'may': 1,\n",
              " 'might': 1,\n",
              " 'mind': 1,\n",
              " 'minute': 1,\n",
              " 'mobile': 1,\n",
              " 'more': 1,\n",
              " 'most': 1,\n",
              " 'nation': 1,\n",
              " 'near': 1,\n",
              " 'new': 1,\n",
              " 'nfl': 1,\n",
              " 'no': 1,\n",
              " 'not': 1,\n",
              " 'nowadays': 1,\n",
              " 'of': 1,\n",
              " 'on': 1,\n",
              " 'one': 1,\n",
              " 'only': 1,\n",
              " 'or': 1,\n",
              " 'organization': 1,\n",
              " 'over': 1,\n",
              " 'overcome': 1,\n",
              " 'own': 1,\n",
              " 'pandemic': 1,\n",
              " 'part': 1,\n",
              " 'pattern': 1,\n",
              " 'people': 1,\n",
              " 'performance': 1,\n",
              " 'phone': 1,\n",
              " 'platform': 1,\n",
              " 'play': 1,\n",
              " 'player': 1,\n",
              " 'point': 1,\n",
              " 'potentially': 1,\n",
              " 'power': 1,\n",
              " 'powerful': 1,\n",
              " 'predict': 1,\n",
              " 'price': 1,\n",
              " 'process': 2,\n",
              " 'product': 1,\n",
              " 'promote': 1,\n",
              " 'provide': 1,\n",
              " 'pursuance': 1,\n",
              " 'question': 1,\n",
              " 'realtime': 1,\n",
              " 'realworld': 1,\n",
              " 'recent': 1,\n",
              " 'recipe': 1,\n",
              " 'reduce': 1,\n",
              " 'regardless': 1,\n",
              " 'research': 2,\n",
              " 'researcher': 1,\n",
              " 'researchkit': 1,\n",
              " 'reserve': 1,\n",
              " 'resource': 1,\n",
              " 'reveal': 1,\n",
              " 'right': 1,\n",
              " 'role': 1,\n",
              " 's': 1,\n",
              " 'sample': 1,\n",
              " 'scientist': 1,\n",
              " 'scraper': 1,\n",
              " 'sector': 1,\n",
              " 'selfisolating': 1,\n",
              " 'set': 1,\n",
              " 'shape': 1,\n",
              " 'simply': 1,\n",
              " 'size': 1,\n",
              " 'small': 1,\n",
              " 'smart': 1,\n",
              " 'software': 1,\n",
              " 'some': 1,\n",
              " 'sphere': 1,\n",
              " 'spirit': 1,\n",
              " 'sport': 1,\n",
              " 'spot': 1,\n",
              " 'spread': 1,\n",
              " 'start': 1,\n",
              " 'statistic': 1,\n",
              " 'statistical': 1,\n",
              " 'stay': 1,\n",
              " 'strategy': 1,\n",
              " 'strength': 1,\n",
              " 'string': 1,\n",
              " 'study': 1,\n",
              " 'subject': 1,\n",
              " 'such': 1,\n",
              " 'surprise': 1,\n",
              " 'take': 1,\n",
              " 'team': 1,\n",
              " 'technology': 2,\n",
              " 'tell': 1,\n",
              " 'temperature': 1,\n",
              " 'that': 1,\n",
              " 'the': 1,\n",
              " 'their': 1,\n",
              " 'there': 1,\n",
              " 'therefore': 1,\n",
              " 'thermometer': 1,\n",
              " 'these': 1,\n",
              " 'thoroughly': 1,\n",
              " 'time': 1,\n",
              " 'to': 1,\n",
              " 'togetherness': 1,\n",
              " 'traditional': 1,\n",
              " 'trend': 1,\n",
              " 'trial': 1,\n",
              " 'turn': 1,\n",
              " 'u': 1,\n",
              " 'university': 1,\n",
              " 'update': 1,\n",
              " 'usage': 1,\n",
              " 'use': 3,\n",
              " 'user': 2,\n",
              " 'virus': 1,\n",
              " 'vital': 1,\n",
              " 'way': 1,\n",
              " 'weather': 1,\n",
              " 'web': 1,\n",
              " 'well': 1,\n",
              " 'where': 1,\n",
              " 'which': 1,\n",
              " 'while': 1,\n",
              " 'whilst': 1,\n",
              " 'will': 1,\n",
              " 'with': 1,\n",
              " 'without': 1,\n",
              " 'world': 1,\n",
              " 'worldwide': 1,\n",
              " 'would': 1,\n",
              " 'year': 1,\n",
              " 'zoom59': 1,\n",
              " '©': 1,\n",
              " '’': 1,\n",
              " '“': 1,\n",
              " '”': 1}"
            ]
          },
          "metadata": {},
          "execution_count": 67
        }
      ]
    },
    {
      "cell_type": "code",
      "metadata": {
        "colab": {
          "base_uri": "https://localhost:8080/"
        },
        "id": "CfJIMW7CksTa",
        "outputId": "6d3c1732-bb63-4bfb-9f6a-d6ccf3664dde"
      },
      "source": [
        "print(len(frekuensi_kata))\n",
        "print(len(frekuensi_kata_postprocessing))"
      ],
      "execution_count": 68,
      "outputs": [
        {
          "output_type": "stream",
          "name": "stdout",
          "text": [
            "259\n",
            "284\n"
          ]
        }
      ]
    }
  ]
}