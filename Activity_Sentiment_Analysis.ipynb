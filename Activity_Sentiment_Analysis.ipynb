{
  "nbformat": 4,
  "nbformat_minor": 0,
  "metadata": {
    "colab": {
      "name": "Activity_Sentiment Analysis.ipynb",
      "provenance": [],
      "collapsed_sections": []
    },
    "kernelspec": {
      "name": "python3",
      "display_name": "Python 3"
    },
    "language_info": {
      "name": "python"
    }
  },
  "cells": [
    {
      "cell_type": "markdown",
      "metadata": {
        "id": "Z0XaUZGzTk_J"
      },
      "source": [
        "#  Model sentiment analysis menggunakan 4 model (RF, SVM, Naive Bayes, dan Logistic Regression)"
      ]
    },
    {
      "cell_type": "code",
      "metadata": {
        "id": "aQg2NoOyL5aq"
      },
      "source": [
        "# Import Library\n",
        "import numpy as np \n",
        "import pandas as pd \n",
        "import seaborn as sns "
      ],
      "execution_count": 37,
      "outputs": []
    },
    {
      "cell_type": "code",
      "metadata": {
        "colab": {
          "base_uri": "https://localhost:8080/",
          "height": 206
        },
        "id": "JTeqPTIHMJ4t",
        "outputId": "c4be8dcc-efc7-4881-9680-2dc955031b69"
      },
      "source": [
        "# Input data set\n",
        "url = \"https://raw.githubusercontent.com/rizalespe/Dataset-Sentimen-Analisis-Bahasa-Indonesia/master/dataset_tweet_sentiment_cellular_service_provider.csv\"\n",
        "df = pd.read_csv(url)\n",
        "df.head() "
      ],
      "execution_count": 38,
      "outputs": [
        {
          "output_type": "execute_result",
          "data": {
            "text/html": [
              "<div>\n",
              "<style scoped>\n",
              "    .dataframe tbody tr th:only-of-type {\n",
              "        vertical-align: middle;\n",
              "    }\n",
              "\n",
              "    .dataframe tbody tr th {\n",
              "        vertical-align: top;\n",
              "    }\n",
              "\n",
              "    .dataframe thead th {\n",
              "        text-align: right;\n",
              "    }\n",
              "</style>\n",
              "<table border=\"1\" class=\"dataframe\">\n",
              "  <thead>\n",
              "    <tr style=\"text-align: right;\">\n",
              "      <th></th>\n",
              "      <th>Id</th>\n",
              "      <th>Sentiment</th>\n",
              "      <th>Text Tweet</th>\n",
              "    </tr>\n",
              "  </thead>\n",
              "  <tbody>\n",
              "    <tr>\n",
              "      <th>0</th>\n",
              "      <td>1</td>\n",
              "      <td>positive</td>\n",
              "      <td>&lt;USER_MENTION&gt; #BOIKOT_&lt;PROVIDER_NAME&gt; Gunakan...</td>\n",
              "    </tr>\n",
              "    <tr>\n",
              "      <th>1</th>\n",
              "      <td>2</td>\n",
              "      <td>positive</td>\n",
              "      <td>Saktinya balik lagi, alhamdulillah :v &lt;PROVIDE...</td>\n",
              "    </tr>\n",
              "    <tr>\n",
              "      <th>2</th>\n",
              "      <td>3</td>\n",
              "      <td>negative</td>\n",
              "      <td>Selamat pagi &lt;PROVIDER_NAME&gt;  bisa bantu kenap...</td>\n",
              "    </tr>\n",
              "    <tr>\n",
              "      <th>3</th>\n",
              "      <td>4</td>\n",
              "      <td>negative</td>\n",
              "      <td>Dear &lt;PROVIDER_NAME&gt; akhir2 ini jaringan data ...</td>\n",
              "    </tr>\n",
              "    <tr>\n",
              "      <th>4</th>\n",
              "      <td>5</td>\n",
              "      <td>negative</td>\n",
              "      <td>Selamat malam PENDUSTA &lt;PROVIDER_NAME&gt;</td>\n",
              "    </tr>\n",
              "  </tbody>\n",
              "</table>\n",
              "</div>"
            ],
            "text/plain": [
              "   Id Sentiment                                         Text Tweet\n",
              "0   1  positive  <USER_MENTION> #BOIKOT_<PROVIDER_NAME> Gunakan...\n",
              "1   2  positive  Saktinya balik lagi, alhamdulillah :v <PROVIDE...\n",
              "2   3  negative  Selamat pagi <PROVIDER_NAME>  bisa bantu kenap...\n",
              "3   4  negative  Dear <PROVIDER_NAME> akhir2 ini jaringan data ...\n",
              "4   5  negative            Selamat malam PENDUSTA <PROVIDER_NAME> "
            ]
          },
          "metadata": {},
          "execution_count": 38
        }
      ]
    },
    {
      "cell_type": "code",
      "metadata": {
        "colab": {
          "base_uri": "https://localhost:8080/",
          "height": 206
        },
        "id": "NbUD31FlPy0O",
        "outputId": "9df50bc8-dc0b-47b5-b523-132620bfaa9d"
      },
      "source": [
        "df.rename(columns={'Text Tweet':'text_tweet'},inplace=True)\n",
        "df.head()"
      ],
      "execution_count": 39,
      "outputs": [
        {
          "output_type": "execute_result",
          "data": {
            "text/html": [
              "<div>\n",
              "<style scoped>\n",
              "    .dataframe tbody tr th:only-of-type {\n",
              "        vertical-align: middle;\n",
              "    }\n",
              "\n",
              "    .dataframe tbody tr th {\n",
              "        vertical-align: top;\n",
              "    }\n",
              "\n",
              "    .dataframe thead th {\n",
              "        text-align: right;\n",
              "    }\n",
              "</style>\n",
              "<table border=\"1\" class=\"dataframe\">\n",
              "  <thead>\n",
              "    <tr style=\"text-align: right;\">\n",
              "      <th></th>\n",
              "      <th>Id</th>\n",
              "      <th>Sentiment</th>\n",
              "      <th>text_tweet</th>\n",
              "    </tr>\n",
              "  </thead>\n",
              "  <tbody>\n",
              "    <tr>\n",
              "      <th>0</th>\n",
              "      <td>1</td>\n",
              "      <td>positive</td>\n",
              "      <td>&lt;USER_MENTION&gt; #BOIKOT_&lt;PROVIDER_NAME&gt; Gunakan...</td>\n",
              "    </tr>\n",
              "    <tr>\n",
              "      <th>1</th>\n",
              "      <td>2</td>\n",
              "      <td>positive</td>\n",
              "      <td>Saktinya balik lagi, alhamdulillah :v &lt;PROVIDE...</td>\n",
              "    </tr>\n",
              "    <tr>\n",
              "      <th>2</th>\n",
              "      <td>3</td>\n",
              "      <td>negative</td>\n",
              "      <td>Selamat pagi &lt;PROVIDER_NAME&gt;  bisa bantu kenap...</td>\n",
              "    </tr>\n",
              "    <tr>\n",
              "      <th>3</th>\n",
              "      <td>4</td>\n",
              "      <td>negative</td>\n",
              "      <td>Dear &lt;PROVIDER_NAME&gt; akhir2 ini jaringan data ...</td>\n",
              "    </tr>\n",
              "    <tr>\n",
              "      <th>4</th>\n",
              "      <td>5</td>\n",
              "      <td>negative</td>\n",
              "      <td>Selamat malam PENDUSTA &lt;PROVIDER_NAME&gt;</td>\n",
              "    </tr>\n",
              "  </tbody>\n",
              "</table>\n",
              "</div>"
            ],
            "text/plain": [
              "   Id Sentiment                                         text_tweet\n",
              "0   1  positive  <USER_MENTION> #BOIKOT_<PROVIDER_NAME> Gunakan...\n",
              "1   2  positive  Saktinya balik lagi, alhamdulillah :v <PROVIDE...\n",
              "2   3  negative  Selamat pagi <PROVIDER_NAME>  bisa bantu kenap...\n",
              "3   4  negative  Dear <PROVIDER_NAME> akhir2 ini jaringan data ...\n",
              "4   5  negative            Selamat malam PENDUSTA <PROVIDER_NAME> "
            ]
          },
          "metadata": {},
          "execution_count": 39
        }
      ]
    },
    {
      "cell_type": "code",
      "metadata": {
        "colab": {
          "base_uri": "https://localhost:8080/"
        },
        "id": "rg_S0Ky3T29i",
        "outputId": "42818538-4b70-465f-b34e-ae07798e2fe5"
      },
      "source": [
        "from sklearn.preprocessing import LabelEncoder \n",
        "\n",
        "X = df.iloc[:,2].values \n",
        "Le = LabelEncoder()\n",
        "Le.fit(['positive','negative']) \n",
        "\n",
        "y = Le.transform(df.iloc[:,1].values)\n",
        "\n",
        "print(list(Le.classes_))"
      ],
      "execution_count": 40,
      "outputs": [
        {
          "output_type": "stream",
          "name": "stdout",
          "text": [
            "['negative', 'positive']\n"
          ]
        }
      ]
    },
    {
      "cell_type": "code",
      "metadata": {
        "colab": {
          "base_uri": "https://localhost:8080/",
          "height": 296
        },
        "id": "pN67zdv7T4Sy",
        "outputId": "743b25ce-00e6-45f7-c0b7-6713aa7fb61c"
      },
      "source": [
        "# Explorasi data \n",
        "sns.countplot(x='Sentiment', data = df)"
      ],
      "execution_count": 41,
      "outputs": [
        {
          "output_type": "execute_result",
          "data": {
            "text/plain": [
              "<matplotlib.axes._subplots.AxesSubplot at 0x7f993b928f50>"
            ]
          },
          "metadata": {},
          "execution_count": 41
        },
        {
          "output_type": "display_data",
          "data": {
            "image/png": "[encoded data removed]",
            "text/plain": [
              "<Figure size 432x288 with 1 Axes>"
            ]
          },
          "metadata": {
            "needs_background": "light"
          }
        }
      ]
    },
    {
      "cell_type": "code",
      "metadata": {
        "colab": {
          "base_uri": "https://localhost:8080/"
        },
        "id": "ILOKCCLBT4o4",
        "outputId": "0ad12e95-d532-4bbe-d65f-a20a3010f818"
      },
      "source": [
        "df['Sentiment'].value_counts()"
      ],
      "execution_count": 42,
      "outputs": [
        {
          "output_type": "execute_result",
          "data": {
            "text/plain": [
              "negative    161\n",
              "positive    139\n",
              "Name: Sentiment, dtype: int64"
            ]
          },
          "metadata": {},
          "execution_count": 42
        }
      ]
    },
    {
      "cell_type": "code",
      "metadata": {
        "id": "OJHjvFaMT4rX"
      },
      "source": [
        "import requests\n",
        "import re"
      ],
      "execution_count": 43,
      "outputs": []
    },
    {
      "cell_type": "code",
      "metadata": {
        "id": "aDzm8A61UVEG"
      },
      "source": [
        "# Preprocessing menghilangkan stopword menggunakan Stopwordlist Indonesia \n",
        "url = \"https://raw.githubusercontent.com/Wayan123/Sentiment-Analysis/main/stopwordlist.txt\" \n",
        "ina_stopword = requests.get(url).content \n",
        "\n",
        "stop_list = [] \n",
        "for tempstp in ina_stopword.split():\n",
        "  stop_list.append(tempstp)"
      ],
      "execution_count": 44,
      "outputs": []
    },
    {
      "cell_type": "code",
      "metadata": {
        "id": "QHEd-24PUbGo"
      },
      "source": [
        "# Menghapus special character dan stopword \n",
        "clean_text = \"@#=-_\\S+|https?:\\S+http?:\\S|{^A-Za-z}+\" \n",
        "\n",
        "def preproses(text_tweet):\n",
        "  text_tweet = re.sub(clean_text,'',str(text_tweet).lower()).strip()\n",
        "  tokens = []\n",
        "  for token in text_tweet.split():\n",
        "    if token not in stop_list:\n",
        "      tokens.append(token) \n",
        "  return ''.join(tokens)"
      ],
      "execution_count": 45,
      "outputs": []
    },
    {
      "cell_type": "code",
      "metadata": {
        "id": "7IL9Sm1_Uflg"
      },
      "source": [
        "df['clean_twt'] = df.text_tweet.apply(lambda x: preproses(x))"
      ],
      "execution_count": 46,
      "outputs": []
    },
    {
      "cell_type": "code",
      "metadata": {
        "colab": {
          "base_uri": "https://localhost:8080/",
          "height": 293
        },
        "id": "Lx3Ee_N0UwI9",
        "outputId": "99d36e51-3608-4f89-d949-63dd2abe8c2b"
      },
      "source": [
        "df.head()"
      ],
      "execution_count": 47,
      "outputs": [
        {
          "output_type": "execute_result",
          "data": {
            "text/html": [
              "<div>\n",
              "<style scoped>\n",
              "    .dataframe tbody tr th:only-of-type {\n",
              "        vertical-align: middle;\n",
              "    }\n",
              "\n",
              "    .dataframe tbody tr th {\n",
              "        vertical-align: top;\n",
              "    }\n",
              "\n",
              "    .dataframe thead th {\n",
              "        text-align: right;\n",
              "    }\n",
              "</style>\n",
              "<table border=\"1\" class=\"dataframe\">\n",
              "  <thead>\n",
              "    <tr style=\"text-align: right;\">\n",
              "      <th></th>\n",
              "      <th>Id</th>\n",
              "      <th>Sentiment</th>\n",
              "      <th>text_tweet</th>\n",
              "      <th>clean_twt</th>\n",
              "    </tr>\n",
              "  </thead>\n",
              "  <tbody>\n",
              "    <tr>\n",
              "      <th>0</th>\n",
              "      <td>1</td>\n",
              "      <td>positive</td>\n",
              "      <td>&lt;USER_MENTION&gt; #BOIKOT_&lt;PROVIDER_NAME&gt; Gunakan...</td>\n",
              "      <td>&lt;user_mention&gt;#boikot_&lt;provider_name&gt;gunakanpr...</td>\n",
              "    </tr>\n",
              "    <tr>\n",
              "      <th>1</th>\n",
              "      <td>2</td>\n",
              "      <td>positive</td>\n",
              "      <td>Saktinya balik lagi, alhamdulillah :v &lt;PROVIDE...</td>\n",
              "      <td>saktinyabaliklagi,alhamdulillah:v&lt;provider_name&gt;</td>\n",
              "    </tr>\n",
              "    <tr>\n",
              "      <th>2</th>\n",
              "      <td>3</td>\n",
              "      <td>negative</td>\n",
              "      <td>Selamat pagi &lt;PROVIDER_NAME&gt;  bisa bantu kenap...</td>\n",
              "      <td>selamatpagi&lt;provider_name&gt;bisabantukenapadidal...</td>\n",
              "    </tr>\n",
              "    <tr>\n",
              "      <th>3</th>\n",
              "      <td>4</td>\n",
              "      <td>negative</td>\n",
              "      <td>Dear &lt;PROVIDER_NAME&gt; akhir2 ini jaringan data ...</td>\n",
              "      <td>dear&lt;provider_name&gt;akhir2inijaringandatalemotb...</td>\n",
              "    </tr>\n",
              "    <tr>\n",
              "      <th>4</th>\n",
              "      <td>5</td>\n",
              "      <td>negative</td>\n",
              "      <td>Selamat malam PENDUSTA &lt;PROVIDER_NAME&gt;</td>\n",
              "      <td>selamatmalampendusta&lt;provider_name&gt;</td>\n",
              "    </tr>\n",
              "  </tbody>\n",
              "</table>\n",
              "</div>"
            ],
            "text/plain": [
              "   Id  ...                                          clean_twt\n",
              "0   1  ...  <user_mention>#boikot_<provider_name>gunakanpr...\n",
              "1   2  ...   saktinyabaliklagi,alhamdulillah:v<provider_name>\n",
              "2   3  ...  selamatpagi<provider_name>bisabantukenapadidal...\n",
              "3   4  ...  dear<provider_name>akhir2inijaringandatalemotb...\n",
              "4   5  ...                selamatmalampendusta<provider_name>\n",
              "\n",
              "[5 rows x 4 columns]"
            ]
          },
          "metadata": {},
          "execution_count": 47
        }
      ]
    },
    {
      "cell_type": "code",
      "metadata": {
        "colab": {
          "base_uri": "https://localhost:8080/"
        },
        "id": "olTTjOKZD4nf",
        "outputId": "586ba069-62da-4d43-e7cf-dd30b4ec6c0f"
      },
      "source": [
        "#melakukan pemodelan prediksi\n",
        "%%time\n",
        "import time \n",
        "from sklearn.feature_extraction.text import TfidfVectorizer\n",
        "from sklearn.linear_model import LogisticRegression\n",
        "from sklearn.ensemble import RandomForestClassifier\n",
        "from sklearn.naive_bayes import GaussianNB\n",
        "from sklearn.svm import SVC\n",
        "from sklearn.model_selection import train_test_split\n",
        "from sklearn.metrics import f1_score, log_loss, accuracy_score, recall_score, precision_score"
      ],
      "execution_count": 59,
      "outputs": [
        {
          "output_type": "stream",
          "name": "stdout",
          "text": [
            "CPU times: user 36 µs, sys: 6 µs, total: 42 µs\n",
            "Wall time: 45.3 µs\n"
          ]
        }
      ]
    },
    {
      "cell_type": "code",
      "metadata": {
        "id": "f22tEQgsVjxU"
      },
      "source": [
        "#membangun vector space model/pembobotan dengan tfidf\n",
        "vectorizer = TfidfVectorizer(ngram_range=(1,3),min_df=5)\n",
        "features = vectorizer.fit_transform(df.clean_twt).toarray()"
      ],
      "execution_count": 60,
      "outputs": []
    },
    {
      "cell_type": "code",
      "metadata": {
        "colab": {
          "base_uri": "https://localhost:8080/"
        },
        "id": "csQUUdw3Vnl2",
        "outputId": "8fb320b5-704d-4e6c-d5c7-3b36927a54aa"
      },
      "source": [
        "vectorizer.vocabulary_"
      ],
      "execution_count": 61,
      "outputs": [
        {
          "output_type": "execute_result",
          "data": {
            "text/plain": [
              "{'4g': 0,\n",
              " 'boikot': 1,\n",
              " 'boikot provider_name': 2,\n",
              " 'jaringan': 3,\n",
              " 'jaringan provider_name': 4,\n",
              " 'lte': 5,\n",
              " 'poin': 6,\n",
              " 'product_name': 7,\n",
              " 'product_name provider_name': 8,\n",
              " 'provider_name': 9,\n",
              " 'provider_name poin': 10,\n",
              " 'provider_name product_name': 11,\n",
              " 'provider_name provider_name': 12,\n",
              " 'provider_name url': 13,\n",
              " 'rt': 14,\n",
              " 'rt user_mention': 15,\n",
              " 'sinyal': 16,\n",
              " 'sinyal provider_name': 17,\n",
              " 'terimakasih': 18,\n",
              " 'terimakasih provider_name': 19,\n",
              " 'url': 20,\n",
              " 'user_mention': 21}"
            ]
          },
          "metadata": {},
          "execution_count": 61
        }
      ]
    },
    {
      "cell_type": "code",
      "metadata": {
        "id": "nz8H3sJhVwcE"
      },
      "source": [
        "#melakukan split data training untuk mengetahui akurasi\n",
        "X_train, X_test, y_train, y_test = train_test_split(features, y, test_size=0.2, random_state=42)"
      ],
      "execution_count": 62,
      "outputs": []
    },
    {
      "cell_type": "code",
      "metadata": {
        "id": "CiUvpb9FCWxv"
      },
      "source": [
        "#modeling sentiment\n",
        "LR_ = LogisticRegression().fit(X_train, y_train)"
      ],
      "execution_count": 63,
      "outputs": []
    },
    {
      "cell_type": "code",
      "metadata": {
        "colab": {
          "base_uri": "https://localhost:8080/"
        },
        "id": "rbA55gtvCfPx",
        "outputId": "cdfda2ac-71fa-4c56-8101-ee6d146a347c"
      },
      "source": [
        "#melakukan evaluasi\n",
        "yhat = LR_.predict(X_test)\n",
        "yhat_prob = LR_.predict_proba(X_test)\n",
        "# print('F1 score : ', f1_score(y_test, yhat, average='weighted'))\n",
        "print('Accuracy  = ', round(accuracy_score(y_test,yhat)*100,2),'%')\n",
        "print('Recall    = ', round(recall_score(y_test, yhat)*100,2),'%')\n",
        "print('Precision = ', round(precision_score(y_test, yhat)*100,2),'%')\n",
        "print('F1-Score  = ', round(f1_score(y_test, yhat)*100,2),'%')\n",
        "\n",
        "print('Log Loss : ', round(log_loss(y_test, yhat_prob), 2))"
      ],
      "execution_count": 64,
      "outputs": [
        {
          "output_type": "stream",
          "name": "stdout",
          "text": [
            "Accuracy  =  48.33 %\n",
            "Recall    =  22.22 %\n",
            "Precision =  37.5 %\n",
            "F1-Score  =  27.91 %\n",
            "Log Loss :  0.71\n"
          ]
        }
      ]
    },
    {
      "cell_type": "markdown",
      "metadata": {
        "id": "sGpvILVnEaMH"
      },
      "source": [
        "Pelatihan dan Evaluasi dari Model Klasifikasi Teks"
      ]
    },
    {
      "cell_type": "code",
      "metadata": {
        "id": "aoDedb3yEbMb"
      },
      "source": [
        "import time\n",
        "\n",
        "from sklearn.ensemble import RandomForestClassifier\n",
        "\n",
        "text_classifier_en = RandomForestClassifier(n_estimators=100, random_state=0)\n",
        "t0_en = time.time()\n",
        "text_classifier_en.fit(X_train, y_train)\n",
        "t1_en = time.time()"
      ],
      "execution_count": 65,
      "outputs": []
    },
    {
      "cell_type": "code",
      "metadata": {
        "id": "CXEiEggUEbWr"
      },
      "source": [
        "from sklearn.naive_bayes import GaussianNB\n",
        "text_classifier_nb = GaussianNB()  \n",
        "t0_nb = time.time()\n",
        "text_classifier_nb.fit(X_train, y_train)\n",
        "t1_nb = time.time()"
      ],
      "execution_count": 66,
      "outputs": []
    },
    {
      "cell_type": "code",
      "metadata": {
        "id": "XEzOUt3SEklp"
      },
      "source": [
        "from sklearn.svm import SVC\n",
        "text_classifier_svm = SVC(kernel='linear')\n",
        "t0_svm = time.time()\n",
        "text_classifier_svm.fit(X_train, y_train)\n",
        "t1_svm = time.time()"
      ],
      "execution_count": 67,
      "outputs": []
    },
    {
      "cell_type": "code",
      "metadata": {
        "id": "_rsD3KHeEwYz"
      },
      "source": [
        "from sklearn.linear_model import LogisticRegression\n",
        "LR = LogisticRegression()\n",
        "t0_LR = time.time()\n",
        "LR.fit(X_train, y_train)\n",
        "t1_LR = time.time()"
      ],
      "execution_count": 75,
      "outputs": []
    },
    {
      "cell_type": "code",
      "metadata": {
        "colab": {
          "base_uri": "https://localhost:8080/"
        },
        "id": "bYzcPiPdGpXp",
        "outputId": "508761ab-44d2-434d-fd16-05e27c41c620"
      },
      "source": [
        "predictions_en = text_classifier_en.predict(X_test)\n",
        "t2_en = time.time()\n",
        "time_linear_train_en = t1_en-t0_en\n",
        "time_linear_predict_en = t2_en-t1_en\n",
        "\n",
        "predictions_nb = text_classifier_nb.predict(X_test)\n",
        "t2_nb = time.time()\n",
        "time_linear_train_nb = t1_nb-t0_nb\n",
        "time_linear_predict_nb = t2_nb-t1_nb\n",
        "\n",
        "predictions_svm = text_classifier_svm.predict(X_test)\n",
        "t2_svm = time.time()\n",
        "time_linear_train_svm = t1_svm-t0_svm\n",
        "time_linear_predict_svm = t2_svm-t1_svm\n",
        "\n",
        "predictions_LR = LR.predict(X_test)\n",
        "t2_LR = time.time()\n",
        "time_linear_train_LR = t1_LR-t0_LR\n",
        "time_linear_predict_LR = t2_LR-t1_LR\n",
        "\n",
        "# results\n",
        "print(\"EN Training time: %fs; Prediction time: %fs\" % (time_linear_train_en, time_linear_predict_en))\n",
        "print(\"NB Training time: %fs; Prediction time: %fs\" % (time_linear_train_nb, time_linear_predict_nb))\n",
        "print(\"SVM Training time: %fs; Prediction time: %fs\" % (time_linear_train_svm, time_linear_predict_svm))\n",
        "print(\"LR Training time: %fs; Prediction time: %fs\" % (time_linear_train_LR, time_linear_predict_LR)) "
      ],
      "execution_count": 79,
      "outputs": [
        {
          "output_type": "stream",
          "name": "stdout",
          "text": [
            "EN Training time: 0.137263s; Prediction time: 886.869864s\n",
            "NB Training time: 0.002000s; Prediction time: 866.122485s\n",
            "SVM Training time: 0.004195s; Prediction time: 854.624454s\n",
            "LR Training time: 0.004175s; Prediction time: 218.467658s\n"
          ]
        }
      ]
    },
    {
      "cell_type": "markdown",
      "metadata": {
        "id": "KW8HmTGhH_Jm"
      },
      "source": [
        "Results"
      ]
    },
    {
      "cell_type": "code",
      "metadata": {
        "colab": {
          "base_uri": "https://localhost:8080/"
        },
        "id": "xp5xgk_pH_94",
        "outputId": "d302bf25-c990-4319-889e-44f252a29279"
      },
      "source": [
        "from sklearn.metrics import classification_report, confusion_matrix, accuracy_score, recall_score, precision_score, f1_score, roc_auc_score\n",
        "\n",
        "print(\"Random Forest\")\n",
        "print('Accuracy  = ', round(accuracy_score(y_test, predictions_en)*100,2),'%')\n",
        "print('Recall    = ', round(recall_score(y_test, predictions_en)*100,2),'%')\n",
        "print('Precision = ', round(precision_score(y_test, predictions_en)*100,2),'%')\n",
        "print('F1-Score  = ', round(f1_score(y_test, predictions_en)*100,2),'%')\n",
        "print('ROC AUC   = ', roc_auc_score(y_test, predictions_en))\n",
        "print(\"\")\n",
        "print(\"Naive Bayes\")\n",
        "print('Accuracy  = ', round(accuracy_score(y_test, predictions_nb)*100,2),'%')\n",
        "print('Recall    = ', round(recall_score(y_test, predictions_nb)*100,2),'%')\n",
        "print('Precision = ', round(precision_score(y_test, predictions_nb)*100,2),'%')\n",
        "print('F1-Score  = ', round(f1_score(y_test, predictions_nb)*100,2),'%')\n",
        "print('ROC AUC   = ', roc_auc_score(y_test, predictions_nb))\n",
        "print(\"\")\n",
        "print(\"Support Vector Machine\")\n",
        "print('Accuracy  = ', round(accuracy_score(y_test, predictions_svm)*100,2),'%')\n",
        "print('Recall    = ', round(recall_score(y_test, predictions_svm)*100,2),'%')\n",
        "print('Precision = ', round(precision_score(y_test, predictions_svm)*100,2),'%')\n",
        "print('F1-Score  = ', round(f1_score(y_test, predictions_svm)*100,2),'%')\n",
        "print('ROC AUC   = ', roc_auc_score(y_test, predictions_svm))\n",
        "print(\"\")\n",
        "print(\"Logistic Regression\") \n",
        "print('Accuracy  = ', round(accuracy_score(y_test, predictions_LR)*100,2),'%')\n",
        "print('Recall    = ', round(recall_score(y_test, predictions_LR)*100,2),'%')\n",
        "print('Precision = ', round(precision_score(y_test, predictions_LR)*100,2),'%')\n",
        "print('F1-Score  = ', round(f1_score(y_test, predictions_LR)*100,2),'%')\n",
        "print('ROC AUC   = ', roc_auc_score(y_test, predictions_LR))\n",
        "print(\"\") "
      ],
      "execution_count": 80,
      "outputs": [
        {
          "output_type": "stream",
          "name": "stdout",
          "text": [
            "Random Forest\n",
            "Accuracy  =  50.0 %\n",
            "Recall    =  22.22 %\n",
            "Precision =  40.0 %\n",
            "F1-Score  =  28.57 %\n",
            "ROC AUC   =  0.47474747474747475\n",
            "\n",
            "Naive Bayes\n",
            "Accuracy  =  50.0 %\n",
            "Recall    =  25.93 %\n",
            "Precision =  41.18 %\n",
            "F1-Score  =  31.82 %\n",
            "ROC AUC   =  0.47811447811447816\n",
            "\n",
            "Support Vector Machine\n",
            "Accuracy  =  48.33 %\n",
            "Recall    =  29.63 %\n",
            "Precision =  40.0 %\n",
            "F1-Score  =  34.04 %\n",
            "ROC AUC   =  0.4663299663299663\n",
            "\n",
            "Logistic Regression\n",
            "Accuracy  =  48.33 %\n",
            "Recall    =  22.22 %\n",
            "Precision =  37.5 %\n",
            "F1-Score  =  27.91 %\n",
            "ROC AUC   =  0.45959595959595967\n",
            "\n"
          ]
        }
      ]
    }
  ]
}